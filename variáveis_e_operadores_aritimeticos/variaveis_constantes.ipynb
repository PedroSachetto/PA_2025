{
  "nbformat": 4,
  "nbformat_minor": 0,
  "metadata": {
    "colab": {
      "provenance": [],
      "authorship_tag": "ABX9TyMFIU23gmOWXYOSGS7MDkv4",
      "include_colab_link": true
    },
    "kernelspec": {
      "name": "python3",
      "display_name": "Python 3"
    },
    "language_info": {
      "name": "python"
    }
  },
  "cells": [
    {
      "cell_type": "markdown",
      "metadata": {
        "id": "view-in-github",
        "colab_type": "text"
      },
      "source": [
        "<a href=\"https://colab.research.google.com/github/PedroSachetto/PA_2025/blob/main/vari%C3%A1veis_e_operadores_aritimeticos/variaveis_constantes.ipynb\" target=\"_parent\"><img src=\"https://colab.research.google.com/assets/colab-badge.svg\" alt=\"Open In Colab\"/></a>"
      ]
    },
    {
      "cell_type": "markdown",
      "source": [
        "#variaveis e constates"
      ],
      "metadata": {
        "id": "F2QpzJJ5gcvT"
      }
    },
    {
      "cell_type": "code",
      "source": [
        "idade = 14\n",
        "altura = 1.73\n",
        "nome =\"Pedro Sachetto\"\n",
        "vai = True"
      ],
      "metadata": {
        "id": "0dQV7Bblgj8j"
      },
      "execution_count": null,
      "outputs": []
    },
    {
      "cell_type": "code",
      "source": [
        "nomes = [\"Pedro Sachetto\",\"Taty\"]\n",
        "nomes2 = (\"Pedro Sachetto\",\"Taty\")\n",
        "tudo ={nome:\"Pedro Sachetto\",idade:14,altura:1.70}"
      ],
      "metadata": {
        "id": "31d9rbt_iZNl"
      },
      "execution_count": null,
      "outputs": []
    },
    {
      "cell_type": "code",
      "source": [
        "print(nome)\n",
        "print(nomes)\n",
        "print(nomes2)\n",
        "print(tudo)\n"
      ],
      "metadata": {
        "colab": {
          "base_uri": "https://localhost:8080/"
        },
        "id": "eVnO2xP6i7Np",
        "outputId": "b597f6f8-3605-4221-8494-086942bd574c"
      },
      "execution_count": null,
      "outputs": [
        {
          "output_type": "stream",
          "name": "stdout",
          "text": [
            "Pedro Sachetto\n",
            "['Pedro Sachetto', 'Taty']\n",
            "('Pedro Sachetto', 'Taty')\n",
            "{'Pedro Sachetto': 'Pedro Sachetto', 14: 14, 1.73: 1.7}\n"
          ]
        }
      ]
    },
    {
      "cell_type": "code",
      "source": [
        "print(type(nome))\n",
        "print(type(nomes))\n",
        "print(type(nomes2))\n",
        "print(type(idade))\n",
        "print(type(vai))\n",
        "print(type(altura))\n",
        "print(type(tudo))\n"
      ],
      "metadata": {
        "colab": {
          "base_uri": "https://localhost:8080/"
        },
        "id": "pMAQ1lzOkJuC",
        "outputId": "30281241-eb83-440a-a2ae-3a069571218d"
      },
      "execution_count": null,
      "outputs": [
        {
          "output_type": "stream",
          "name": "stdout",
          "text": [
            "<class 'str'>\n",
            "<class 'list'>\n",
            "<class 'tuple'>\n",
            "<class 'int'>\n",
            "<class 'bool'>\n",
            "<class 'float'>\n",
            "<class 'dict'>\n"
          ]
        }
      ]
    },
    {
      "cell_type": "code",
      "source": [
        "print(\"o nome dele é:\",nome,\",sua idade é :\",idade,\"anos,ele tem\", altura,\"metros\")"
      ],
      "metadata": {
        "colab": {
          "base_uri": "https://localhost:8080/"
        },
        "id": "WqvoMunnlgKP",
        "outputId": "f1ae7b8e-025c-4e16-aad8-21e4524a903e"
      },
      "execution_count": null,
      "outputs": [
        {
          "output_type": "stream",
          "name": "stdout",
          "text": [
            "o nome dele é: Pedro Sachetto ,sua idade é : 14 anos,ele tem 1.73 metros\n"
          ]
        }
      ]
    },
    {
      "cell_type": "code",
      "source": [
        "print(f\"nome: {nome},altura:{altura}\")"
      ],
      "metadata": {
        "colab": {
          "base_uri": "https://localhost:8080/"
        },
        "id": "itEyCS3MsaNC",
        "outputId": "7c77e13f-c9a4-4ccc-8e91-aef47ab810ab"
      },
      "execution_count": null,
      "outputs": [
        {
          "output_type": "stream",
          "name": "stdout",
          "text": [
            "nome: Pedro Sachetto,altura:1.73\n"
          ]
        }
      ]
    },
    {
      "cell_type": "markdown",
      "source": [
        "#area do circulo#"
      ],
      "metadata": {
        "id": "tNOMeu44vcMt"
      }
    },
    {
      "cell_type": "code",
      "source": [
        "PI = 3.14159\n",
        "raio =  float (input(\"Digite o valor do raio do circulo: \"))\n"
      ],
      "metadata": {
        "colab": {
          "base_uri": "https://localhost:8080/"
        },
        "id": "kbRS1us7vk2O",
        "outputId": "789a5589-969d-4e44-ce53-1ca9daac8d29"
      },
      "execution_count": null,
      "outputs": [
        {
          "name": "stdout",
          "output_type": "stream",
          "text": [
            "Digite o valor do raio do circulo: 4\n"
          ]
        }
      ]
    },
    {
      "cell_type": "code",
      "source": [
        "areacir = PI * (raio**2)"
      ],
      "metadata": {
        "id": "KnTTy06rwa7D"
      },
      "execution_count": null,
      "outputs": []
    },
    {
      "cell_type": "code",
      "source": [
        "print(f\"Area do circulo é {areacir}\")"
      ],
      "metadata": {
        "colab": {
          "base_uri": "https://localhost:8080/"
        },
        "id": "2PU8wgAuxYv2",
        "outputId": "7ff64780-d966-42b8-e9ed-006f1ee1f357"
      },
      "execution_count": null,
      "outputs": [
        {
          "output_type": "stream",
          "name": "stdout",
          "text": [
            "Area do circulo é 50.26544\n"
          ]
        }
      ]
    },
    {
      "cell_type": "markdown",
      "source": [
        "#area do quadrdo#"
      ],
      "metadata": {
        "id": "TDT8WTxYzs9D"
      }
    },
    {
      "cell_type": "code",
      "source": [
        "lado =float(input(\"digite o valor do lado do quadrado\"))"
      ],
      "metadata": {
        "colab": {
          "base_uri": "https://localhost:8080/"
        },
        "id": "A2Ke29NLzzcS",
        "outputId": "8e9f01b8-5056-4a93-e3df-d854a5450702"
      },
      "execution_count": null,
      "outputs": [
        {
          "name": "stdout",
          "output_type": "stream",
          "text": [
            "digite o valor do lado do quadrado4\n"
          ]
        }
      ]
    },
    {
      "cell_type": "code",
      "source": [
        "areaqua = lado **2"
      ],
      "metadata": {
        "id": "Axes146S0FU0"
      },
      "execution_count": null,
      "outputs": []
    },
    {
      "cell_type": "code",
      "source": [
        "print(f\"Area do quadrado é:{areaqua}\")"
      ],
      "metadata": {
        "colab": {
          "base_uri": "https://localhost:8080/"
        },
        "id": "_k6z9yLT0Z6E",
        "outputId": "66633946-044d-4399-813b-71bb21798f87"
      },
      "execution_count": null,
      "outputs": [
        {
          "output_type": "stream",
          "name": "stdout",
          "text": [
            "Area do quadrado é:16.0\n"
          ]
        }
      ]
    }
  ]
}