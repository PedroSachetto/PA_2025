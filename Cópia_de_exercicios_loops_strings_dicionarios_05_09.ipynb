{
  "cells": [
    {
      "cell_type": "markdown",
      "metadata": {
        "id": "view-in-github",
        "colab_type": "text"
      },
      "source": [
        "<a href=\"https://colab.research.google.com/github/PedroSachetto/PA_2025/blob/main/C%C3%B3pia_de_exercicios_loops_strings_dicionarios_05_09.ipynb\" target=\"_parent\"><img src=\"https://colab.research.google.com/assets/colab-badge.svg\" alt=\"Open In Colab\"/></a>"
      ]
    },
    {
      "cell_type": "markdown",
      "id": "50e41763",
      "metadata": {
        "id": "50e41763"
      },
      "source": [
        "# Lista de Exercícios - Python (Loops, Strings e Dicionários)\n",
        "Este notebook contém 15 exercícios para praticar `for`, `while`, manipulação de **strings** e **dicionários`."
      ]
    },
    {
      "cell_type": "markdown",
      "id": "6c5e8da0",
      "metadata": {
        "id": "6c5e8da0"
      },
      "source": [
        "### 1. **Contagem de vogais**: Peça uma palavra e conte quantas vezes cada vogal aparece (usar `for` ou `while`)."
      ]
    },
    {
      "cell_type": "code",
      "execution_count": null,
      "id": "15f84469",
      "metadata": {
        "id": "15f84469",
        "colab": {
          "base_uri": "https://localhost:8080/"
        },
        "outputId": "5943aae4-3866-48f0-85ef-db6bec1d474f"
      },
      "outputs": [
        {
          "output_type": "stream",
          "name": "stdout",
          "text": [
            "Digite uma palavra: banana com mel\n",
            "Temos esta vogal: a\n",
            "Temos esta vogal: a\n",
            "Temos esta vogal: a\n",
            "Temos esta vogal: o\n",
            "Temos esta vogal: e\n"
          ]
        }
      ],
      "source": [
        "# Sua resposta aqui\n",
        "palavra = str(input('Digite uma palavra: '))\n",
        "vogais = 'aeiou'\n",
        "for letra in palavra:\n",
        "  if letra in vogais:\n",
        "    print(\"Temos esta vogal:\", letra)\n",
        "\n"
      ]
    },
    {
      "cell_type": "markdown",
      "id": "2446d942",
      "metadata": {
        "id": "2446d942"
      },
      "source": [
        "### 2. **Inversão de string**: Solicite uma frase e mostre-a invertida **sem usar slicing** (`[::-1]` não vale). Use `while`."
      ]
    },
    {
      "cell_type": "code",
      "execution_count": null,
      "id": "4bd947d4",
      "metadata": {
        "id": "4bd947d4",
        "colab": {
          "base_uri": "https://localhost:8080/"
        },
        "outputId": "2ddd87e1-d73f-47a6-cd48-145f2649e090"
      },
      "outputs": [
        {
          "output_type": "stream",
          "name": "stdout",
          "text": [
            "Digite uma frase: oi\n",
            "Frase invertida: io\n"
          ]
        }
      ],
      "source": [
        "# Sua resposta aqui\n",
        "frase = input(\"Digite uma frase: \")\n",
        "invertida = \"\"\n",
        "sepa= len(frase) - 1\n",
        "while sepa >= 0:\n",
        "    invertida += frase[sepa]\n",
        "    sepa-= 1\n",
        "print(\"Frase invertida:\", invertida)"
      ]
    },
    {
      "cell_type": "markdown",
      "id": "096a5b5d",
      "metadata": {
        "id": "096a5b5d"
      },
      "source": [
        "### 3. **Frequência de caracteres**: Dada uma string, crie um dicionário que mostre quantas vezes cada caractere aparece."
      ]
    },
    {
      "cell_type": "code",
      "execution_count": null,
      "id": "bd28dd49",
      "metadata": {
        "id": "bd28dd49",
        "colab": {
          "base_uri": "https://localhost:8080/"
        },
        "outputId": "7f56ce26-1c68-45cd-c0f1-b6ff341319d9"
      },
      "outputs": [
        {
          "output_type": "stream",
          "name": "stdout",
          "text": [
            "Insiraoi papai chris\n",
            "{'o': 1, 'i': 3, ' ': 2, 'p': 2, 'a': 2, 'c': 1, 'h': 1, 'r': 1, 's': 1}\n"
          ]
        }
      ],
      "source": [
        "# Sua resposta aqui\n",
        "\n",
        "txt = input(\"Insira\")\n",
        "freq ={}\n",
        "for pa in txt:\n",
        "  freq[pa] =freq.get(pa, 0) + 1\n",
        "print(freq\n",
        "      )"
      ]
    },
    {
      "cell_type": "markdown",
      "id": "d046cc57",
      "metadata": {
        "id": "d046cc57"
      },
      "source": [
        "### 4. **Palavras únicas**: Peça uma frase e mostre as palavras que aparecem **apenas uma vez**."
      ]
    },
    {
      "cell_type": "code",
      "execution_count": null,
      "id": "092bef79",
      "metadata": {
        "id": "092bef79",
        "colab": {
          "base_uri": "https://localhost:8080/"
        },
        "outputId": "b3b61d09-4dd3-4ddd-f1aa-a3dba030c508"
      },
      "outputs": [
        {
          "output_type": "stream",
          "name": "stdout",
          "text": [
            "Digite uma frase: pedro molon sachetto molon\n",
            "pedro\n",
            "sachetto\n"
          ]
        }
      ],
      "source": [
        "# Sua resposta aqui\n",
        "frs = str(input(\"Digite uma frase: \")).split()\n",
        "for plvs in frs:\n",
        "  if frs.count(plvs) ==1:\n",
        "   print(plvs)"
      ]
    },
    {
      "cell_type": "code",
      "source": [
        "frase = str(input(\"Digite uma frase: \"))"
      ],
      "metadata": {
        "colab": {
          "base_uri": "https://localhost:8080/"
        },
        "id": "jPPM2iTAHSdr",
        "outputId": "bc3fc6ee-8e3f-457f-ab8f-3561de156d27"
      },
      "id": "jPPM2iTAHSdr",
      "execution_count": null,
      "outputs": [
        {
          "output_type": "stream",
          "name": "stdout",
          "text": [
            "Digite uma frase: oi peixe oi\n",
            "Palavras únicas: ['peixe']\n"
          ]
        }
      ]
    },
    {
      "cell_type": "markdown",
      "id": "3ea99323",
      "metadata": {
        "id": "3ea99323"
      },
      "source": [
        "### 5. **Substituição manual**: Peça uma string e duas letras: substitua **manualmente** todas as ocorrências da primeira letra pela segunda, usando laço."
      ]
    },
    {
      "cell_type": "code",
      "execution_count": null,
      "id": "4d1406be",
      "metadata": {
        "id": "4d1406be",
        "colab": {
          "base_uri": "https://localhost:8080/"
        },
        "outputId": "470aa8da-cc86-4b35-fd4c-6582fc56782e"
      },
      "outputs": [
        {
          "output_type": "stream",
          "name": "stdout",
          "text": [
            "insira uma frase: banana\n",
            "Letra que irá ser substituida: a\n",
            "Nova letra: o\n",
            "bonono\n"
          ]
        }
      ],
      "source": [
        "# Sua resposta aqui\n",
        "\n",
        "texto = input(\"insira uma frase: \")\n",
        "r = input(\"Letra que irá ser substituida: \")\n",
        "s = input(\"Nova letra: \")\n",
        "\n",
        "resultado = \"\"\n",
        "for letra in texto:\n",
        "  if letra == r:\n",
        "    resultado += s\n",
        "  else:\n",
        "    resultado += letra\n",
        "print(resultado)\n"
      ]
    },
    {
      "cell_type": "markdown",
      "id": "870e9e64",
      "metadata": {
        "id": "870e9e64"
      },
      "source": [
        "### 6. **Palíndromo**: Verifique se uma palavra é um **palíndromo** sem usar funções prontas de reversão."
      ]
    },
    {
      "cell_type": "code",
      "execution_count": null,
      "id": "87824151",
      "metadata": {
        "id": "87824151",
        "colab": {
          "base_uri": "https://localhost:8080/"
        },
        "outputId": "696da8a3-5dd9-4190-ff47-f6cfcb951661"
      },
      "outputs": [
        {
          "output_type": "stream",
          "name": "stdout",
          "text": [
            "Insira uma palavra: amor\n",
            "amor Não é palíndroma\n"
          ]
        }
      ],
      "source": [
        "# Sua resposta aqui\n",
        "\n",
        "palavra = str(input(\"Insira uma palavra: \"))\n",
        "contra = \"\"\n",
        "for letras in palavra:\n",
        "  contra = letras + contra\n",
        "if contra == palavra:\n",
        "  print(palavra, \"É palíndromo\")\n",
        "else:\n",
        "  print(palavra, \"Não é palíndroma\")\n"
      ]
    },
    {
      "cell_type": "markdown",
      "id": "ce1b0e1f",
      "metadata": {
        "id": "ce1b0e1f"
      },
      "source": [
        "### 7. **Enigma da senha**: Peça uma string e crie uma nova palavra pegando apenas as letras nas **posições ímpares**."
      ]
    },
    {
      "cell_type": "code",
      "execution_count": null,
      "id": "9fc744d2",
      "metadata": {
        "id": "9fc744d2",
        "colab": {
          "base_uri": "https://localhost:8080/"
        },
        "outputId": "17378464-a33c-48c9-b3eb-680e925d6d02"
      },
      "outputs": [
        {
          "output_type": "stream",
          "name": "stdout",
          "text": [
            "insira aqui: banana\n",
            "Senha:  aaa\n"
          ]
        }
      ],
      "source": [
        "# Sua resposta aqui\n",
        "\n",
        "palavra = input(\"insira aqui: \")\n",
        "senha = \"\"\n",
        "for a in range(len(palavra)):\n",
        "  if a % 2 !=0 :\n",
        "    senha += palavra[a]\n",
        "print(\"Senha: \", senha)"
      ]
    },
    {
      "cell_type": "markdown",
      "id": "42fe1350",
      "metadata": {
        "id": "42fe1350"
      },
      "source": [
        "### 8. **Expansão de abreviações**: Dado um dicionário de abreviações, substitua manualmente cada ocorrência em uma frase.\n",
        "\n",
        "(Ex: (vc: você, blz: beleza ..."
      ]
    },
    {
      "cell_type": "code",
      "execution_count": null,
      "id": "e63acd2a",
      "metadata": {
        "id": "e63acd2a",
        "colab": {
          "base_uri": "https://localhost:8080/"
        },
        "outputId": "da99a006-3c99-435b-bb55-b69f02bfc18e"
      },
      "outputs": [
        {
          "output_type": "stream",
          "name": "stdout",
          "text": [
            "Digite aqui: oi ta blz com vc hj?\n",
            "oi\n",
            "oi ta\n",
            "oi ta beleza\n",
            "oi ta beleza com\n",
            "oi ta beleza com você\n",
            "oi ta beleza com você hj?\n"
          ]
        }
      ],
      "source": [
        "# Sua resposta aqui\n",
        "plvcurta = {\n",
        "    \"vc\": \"você\",\n",
        "    \"tb\": \"também\",\n",
        "    \"pq\": \"porque\",\n",
        "    \"hj\": \"hoje\",\n",
        "    \"blz\": \"beleza\"\n",
        "    }\n",
        "frase = input(\"Digite aqui: \").split()\n",
        "nova = []\n",
        "for palavra in frase:\n",
        "  nova.append(plvcurta.get(palavra, palavra))\n",
        "  print(\" \".join(nova))"
      ]
    },
    {
      "cell_type": "markdown",
      "id": "3cf96a02",
      "metadata": {
        "id": "3cf96a02"
      },
      "source": [
        "### 9. **Criptografia simples**: Implemente uma cifra de substituição onde cada letra é trocada pela **próxima no alfabeto** (z → a)."
      ]
    },
    {
      "cell_type": "code",
      "execution_count": 1,
      "id": "c8a0d724",
      "metadata": {
        "id": "c8a0d724",
        "colab": {
          "base_uri": "https://localhost:8080/"
        },
        "outputId": "9c4fac71-c6a9-4439-da99-350a3b7e29ba"
      },
      "outputs": [
        {
          "output_type": "stream",
          "name": "stdout",
          "text": [
            "Digite uma frase: banana\n",
            "cbobob\n"
          ]
        }
      ],
      "source": [
        "# Sua resposta aqui\n",
        "frase = str(input(\"Digite uma frase: \"))\n",
        "cifra = \"abcdefghijklmnopqrstuvwxyz\"\n",
        "cifrada = \"bcdefghijklmnopqrstuvwxyza\"\n",
        "resultado = \"\"\n",
        "\n",
        "for letra in frase:\n",
        "    if letra in cifra:\n",
        "        resultado += cifrada[cifra.index(letra)]\n",
        "    else:\n",
        "        resultado += letra\n",
        "\n",
        "print(resultado)\n",
        "\n"
      ]
    },
    {
      "cell_type": "markdown",
      "id": "4897443b",
      "metadata": {
        "id": "4897443b"
      },
      "source": [
        "### 10. **Anagrama**: Verifique se duas palavras são **anagramas**, usando dicionário para contar ocorrências."
      ]
    },
    {
      "cell_type": "code",
      "execution_count": 2,
      "id": "4c53848e",
      "metadata": {
        "id": "4c53848e",
        "colab": {
          "base_uri": "https://localhost:8080/"
        },
        "outputId": "fcb33bf4-3e98-4653-e812-6eaf89c8102c"
      },
      "outputs": [
        {
          "output_type": "stream",
          "name": "stdout",
          "text": [
            "Digite uma frase: banana\n",
            "Digite outra frase: manga\n",
            "Não é Anagrama\n",
            "{'b': 1, 'a': 3, 'n': 2}\n",
            "{'m': 1, 'a': 2, 'n': 1, 'g': 1}\n"
          ]
        }
      ],
      "source": [
        "# Sua resposta aqui\n",
        "\n",
        "frase = str(input(\"Digite uma frase: \"))\n",
        "frase2 = str(input(\"Digite outra frase: \"))\n",
        "\n",
        "contagem = {}\n",
        "contagem2 = {}\n",
        "\n",
        "for letra in frase:\n",
        "    if letra in contagem:\n",
        "        contagem[letra] += 1\n",
        "    else:\n",
        "        contagem[letra] = 1\n",
        "\n",
        "for letra in frase2:\n",
        "    if letra in contagem2:\n",
        "        contagem2[letra] += 1\n",
        "    else:\n",
        "        contagem2[letra] = 1\n",
        "\n",
        "if contagem == contagem2:\n",
        "    print(\"É Anagrama\")\n",
        "    print(contagem)\n",
        "    print(contagem2)\n",
        "else:\n",
        "    print(\"Não é Anagrama\")\n",
        "    print(contagem)\n",
        "    print(contagem2)"
      ]
    }
  ],
  "metadata": {
    "colab": {
      "provenance": [],
      "include_colab_link": true
    },
    "language_info": {
      "name": "python"
    },
    "kernelspec": {
      "name": "python3",
      "display_name": "Python 3"
    }
  },
  "nbformat": 4,
  "nbformat_minor": 5
}