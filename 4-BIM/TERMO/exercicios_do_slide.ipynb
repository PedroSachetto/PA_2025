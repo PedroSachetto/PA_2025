{
  "nbformat": 4,
  "nbformat_minor": 0,
  "metadata": {
    "colab": {
      "provenance": []
    },
    "kernelspec": {
      "name": "python3",
      "display_name": "Python 3"
    },
    "language_info": {
      "name": "python"
    }
  },
  "cells": [
    {
      "cell_type": "markdown",
      "source": [
        "1)Mensagem de Boas-vindas"
      ],
      "metadata": {
        "id": "47UQGn7bjQWf"
      }
    },
    {
      "cell_type": "code",
      "execution_count": null,
      "metadata": {
        "id": "eEmgyi6aiaWJ"
      },
      "outputs": [],
      "source": [
        "def boas_vindas():\n",
        "    print(\"BOM,boas vindas\")"
      ]
    },
    {
      "cell_type": "code",
      "source": [
        "boas_vindas()"
      ],
      "metadata": {
        "colab": {
          "base_uri": "https://localhost:8080/"
        },
        "id": "1Rw0AgEAljRZ",
        "outputId": "7399e369-2cec-46ae-f43f-86467b7e375b"
      },
      "execution_count": null,
      "outputs": [
        {
          "output_type": "stream",
          "name": "stdout",
          "text": [
            "BOM,boas vindas\n"
          ]
        }
      ]
    },
    {
      "cell_type": "markdown",
      "source": [
        "2)Conversor de Temperatura"
      ],
      "metadata": {
        "id": "OmPSM4POjWYP"
      }
    },
    {
      "cell_type": "code",
      "source": [
        "def trasformaremfahren(celsius):\n",
        "    fahrenheit = celsius * (9 / 5) + 32\n",
        "    return fahrenheit\n"
      ],
      "metadata": {
        "id": "QKD5R034jWkF"
      },
      "execution_count": null,
      "outputs": []
    },
    {
      "cell_type": "code",
      "source": [
        "resultado = trasformaremfahren(10)\n",
        "print(resultado)"
      ],
      "metadata": {
        "colab": {
          "base_uri": "https://localhost:8080/"
        },
        "id": "VdKhq4chm5_6",
        "outputId": "02604237-d276-4f4f-e6ae-799b1f3dc397"
      },
      "execution_count": null,
      "outputs": [
        {
          "output_type": "stream",
          "name": "stdout",
          "text": [
            "50.0\n"
          ]
        }
      ]
    },
    {
      "cell_type": "markdown",
      "source": [
        "3)Mensagem Personalizada"
      ],
      "metadata": {
        "id": "sNcUXSedjWrI"
      }
    },
    {
      "cell_type": "code",
      "source": [
        "def boas_vindas_personalizada(nome):\n",
        "  print(f\"Olá, {nome}! Seja bem-vindo.\")\n",
        "nome_usuario = input(\"Digite seu nome: \")"
      ],
      "metadata": {
        "id": "BOJj3nS0jWwV",
        "colab": {
          "base_uri": "https://localhost:8080/"
        },
        "outputId": "d5568d4a-7da5-4a9b-c1a5-2c5a81beacff"
      },
      "execution_count": 6,
      "outputs": [
        {
          "name": "stdout",
          "output_type": "stream",
          "text": [
            "Digite seu nome: PEDRO\n"
          ]
        }
      ]
    },
    {
      "cell_type": "code",
      "source": [
        "boas_vindas_personalizada(nome_usuario)\n"
      ],
      "metadata": {
        "colab": {
          "base_uri": "https://localhost:8080/"
        },
        "id": "ntoKfSkirels",
        "outputId": "94162120-9bd4-48ee-a644-ac678f82cce6"
      },
      "execution_count": 7,
      "outputs": [
        {
          "output_type": "stream",
          "name": "stdout",
          "text": [
            "Olá, PEDRO! Seja bem-vindo.\n"
          ]
        }
      ]
    },
    {
      "cell_type": "markdown",
      "source": [
        "4)Quadrado e Cubo"
      ],
      "metadata": {
        "id": "cpWFDt-sjW1_"
      }
    },
    {
      "cell_type": "code",
      "source": [
        "def calcular_potencias(p):\n",
        "    quadrado = p ** 2\n",
        "    cubo = p ** 3\n",
        "    return quadrado, cubo"
      ],
      "metadata": {
        "id": "pbBArZ5ejW54"
      },
      "execution_count": null,
      "outputs": []
    },
    {
      "cell_type": "code",
      "source": [
        "numero = int(input(\"Digite um número: \"))\n",
        "resultado = calcular_potencias(numero)\n",
        "print(\"Quadrado e Cubo:\", resultado)\n"
      ],
      "metadata": {
        "colab": {
          "base_uri": "https://localhost:8080/"
        },
        "id": "AtY1a_p9su4k",
        "outputId": "93f8e290-4380-4c18-c986-4d8af76f5196"
      },
      "execution_count": null,
      "outputs": [
        {
          "output_type": "stream",
          "name": "stdout",
          "text": [
            "Digite um número: 3\n",
            "Quadrado e Cubo: (9, 27)\n"
          ]
        }
      ]
    },
    {
      "cell_type": "markdown",
      "source": [
        "5)Contagem Regressiva"
      ],
      "metadata": {
        "id": "MT7yJjtwjW-h"
      }
    },
    {
      "cell_type": "code",
      "source": [
        "def contagem_regressiva():\n",
        "    inicio = int(input(\"Digite o número inicial da contagem regressiva: \"))\n",
        "\n",
        "    for t in range(inicio, 0, -1):\n",
        "        print(t)\n"
      ],
      "metadata": {
        "id": "3GNkRk7HjXCs"
      },
      "execution_count": null,
      "outputs": []
    },
    {
      "cell_type": "code",
      "source": [
        "contagem_regressiva()"
      ],
      "metadata": {
        "colab": {
          "base_uri": "https://localhost:8080/"
        },
        "id": "6j1qBMfHtaqo",
        "outputId": "67ccba73-0b65-4549-cc0f-b610bf1ea59f"
      },
      "execution_count": null,
      "outputs": [
        {
          "output_type": "stream",
          "name": "stdout",
          "text": [
            "Digite o número inicial da contagem regressiva: 10\n",
            "10\n",
            "9\n",
            "8\n",
            "7\n",
            "6\n",
            "5\n",
            "4\n",
            "3\n",
            "2\n",
            "1\n"
          ]
        }
      ]
    },
    {
      "cell_type": "markdown",
      "source": [
        "6)Cálculo de Desconto"
      ],
      "metadata": {
        "id": "O_nxDHOtjXHP"
      }
    },
    {
      "cell_type": "code",
      "source": [
        "def calcular_desconto(valor_original, percentual_desconto):\n",
        "    return valor_original * (1 - percentual_desconto / 100)\n",
        "\n"
      ],
      "metadata": {
        "id": "3aSKsmQGjXL1"
      },
      "execution_count": null,
      "outputs": []
    },
    {
      "cell_type": "code",
      "source": [
        "\n",
        "valor = float(input(\"Digite o valor original: \"))\n",
        "desconto = float(input(\"Digite o percentual de desconto: \"))\n",
        "resultado = calcular_desconto(valor, desconto)\n",
        "print(f\"Valor final com desconto: {resultado:}\")\n"
      ],
      "metadata": {
        "colab": {
          "base_uri": "https://localhost:8080/"
        },
        "id": "Rbq8bryb6sy3",
        "outputId": "91b983c9-894f-4208-cb63-f39e267490f9"
      },
      "execution_count": null,
      "outputs": [
        {
          "output_type": "stream",
          "name": "stdout",
          "text": [
            "Digite o valor original: 200\n",
            "Digite o percentual de desconto: 15\n",
            "Valor final com desconto: 170.0\n"
          ]
        }
      ]
    },
    {
      "cell_type": "markdown",
      "source": [
        "7)Maior e Menor"
      ],
      "metadata": {
        "id": "mTPNsYAkjXRD"
      }
    },
    {
      "cell_type": "code",
      "source": [
        "def encontrar_extremos(lista):\n",
        "    maior = max(lista)\n",
        "    menor = min(lista)\n",
        "    return maior, menor"
      ],
      "metadata": {
        "id": "4tweCcjyjXUT"
      },
      "execution_count": null,
      "outputs": []
    },
    {
      "cell_type": "code",
      "source": [
        "numeros = [10, 5, 23, 7, 15]\n",
        "maior, menor = encontrar_extremos(numeros)\n",
        "print(f\"Maior: {maior}, Menor: {menor}\")"
      ],
      "metadata": {
        "colab": {
          "base_uri": "https://localhost:8080/"
        },
        "id": "DxsjhsEtuGoh",
        "outputId": "f1a86393-52eb-4a6f-8920-1395ae301ef7"
      },
      "execution_count": null,
      "outputs": [
        {
          "output_type": "stream",
          "name": "stdout",
          "text": [
            "Maior: 23, Menor: 5\n"
          ]
        }
      ]
    },
    {
      "cell_type": "markdown",
      "source": [
        "8)Calculadora Simples"
      ],
      "metadata": {
        "id": "xs45HL2IjigU"
      }
    },
    {
      "cell_type": "code",
      "source": [
        "def calculadora(a,b,operacao):\n",
        "\n",
        "  if operacao == 'soma':\n",
        "       return a + b\n",
        "\n",
        "  elif operacao == 'subtracao':\n",
        "      return a - b\n",
        "\n",
        "  elif operacao == 'multiplicacao':\n",
        "      return a * b\n",
        "\n",
        "  elif operacao == 'divisao':\n",
        "      if b != 0:\n",
        "         return a / b\n",
        "      else:\n",
        "         return \"Erro: divisão por zero!\"\n",
        "  else:\n",
        "     return \"Operação inválida\"\n"
      ],
      "metadata": {
        "id": "uGQMnyyAjjbK"
      },
      "execution_count": 8,
      "outputs": []
    },
    {
      "cell_type": "code",
      "source": [
        "a = float(input(\"Digite o primeiro número: \"))\n",
        "b = float(input(\"Digite o segundo número: \"))\n",
        "operacao = input(\"Digite a operação (soma, subtracao, multiplicacao, divisao): \").lower()\n",
        "resultado = calculadora(a,b,operacao)\n",
        "print(\"Resultado:\", resultado)\n"
      ],
      "metadata": {
        "id": "JnMIsRzouq0o"
      },
      "execution_count": null,
      "outputs": []
    },
    {
      "cell_type": "markdown",
      "source": [
        "9)Mensagem Automática"
      ],
      "metadata": {
        "id": "5_EGMthFjkfc"
      }
    },
    {
      "cell_type": "code",
      "source": [
        "def enviar_email():\n",
        "  destinatario = input(\"Digite o destinatário do email: \")\n",
        "  assunto = input(\"Digite o assunto do email: \")\n",
        "  corpo = input(\"Digite o corpo do email (ou deixe vazio para usar padrão): \")\n",
        "\n",
        "  if corpo == \"\":\n",
        "        corpo = \"Este é um email automático.\"\n",
        "\n",
        "  print(\"\\nEnviando email\")\n",
        "  print(\"Destinatário:\", destinatario)\n",
        "  print(\"Assunto:\", assunto)\n",
        "  print(\"Corpo:\", corpo)\n"
      ],
      "metadata": {
        "id": "33SQkyXVjoNM"
      },
      "execution_count": null,
      "outputs": []
    },
    {
      "cell_type": "code",
      "source": [
        "\n",
        "enviar_email()\n"
      ],
      "metadata": {
        "colab": {
          "base_uri": "https://localhost:8080/"
        },
        "id": "z2WfLUOQwwSc",
        "outputId": "c7763ccc-7da5-4437-d25c-e5490772a45a"
      },
      "execution_count": null,
      "outputs": [
        {
          "output_type": "stream",
          "name": "stdout",
          "text": [
            "Digite o destinatário do email: pedro@gmail.com\n",
            "Digite o assunto do email: reuniao\n",
            "Digite o corpo do email (ou deixe vazio para usar padrão): \n",
            "\n",
            "Enviando email...\n",
            "Destinatário: pedro@gmail.com\n",
            "Assunto: reuniao\n",
            "Corpo: Este é um email automático.\n"
          ]
        }
      ]
    },
    {
      "cell_type": "markdown",
      "source": [
        "10)Sistema de Notas"
      ],
      "metadata": {
        "id": "N1oSGoUfjoTW"
      }
    },
    {
      "cell_type": "code",
      "source": [
        "def avaliar_aluno():\n",
        "    nota = float(input(\"Digite a nota do aluno (0 a 10): \"))\n",
        "    if nota >= 7:\n",
        "        situacao = \"Aprovado\"\n",
        "    elif nota >= 5 and nota < 7:\n",
        "        situacao = \"Recuperação\"\n",
        "    else:\n",
        "        situacao = \"Reprovado\"\n",
        "\n",
        "    print(\"Aluno:\", situacao)\n",
        "\n",
        "\n"
      ],
      "metadata": {
        "id": "X7uB_n93jkNj"
      },
      "execution_count": null,
      "outputs": []
    },
    {
      "cell_type": "code",
      "source": [
        "avaliar_aluno()"
      ],
      "metadata": {
        "colab": {
          "base_uri": "https://localhost:8080/"
        },
        "id": "fxMcyY230OOs",
        "outputId": "2ee25e65-c546-4025-fa76-b5336043dfc4"
      },
      "execution_count": null,
      "outputs": [
        {
          "output_type": "stream",
          "name": "stdout",
          "text": [
            "Digite a nota do aluno (0 a 10): 2\n",
            "Situação do aluno: Reprovado\n"
          ]
        }
      ]
    }
  ]
}