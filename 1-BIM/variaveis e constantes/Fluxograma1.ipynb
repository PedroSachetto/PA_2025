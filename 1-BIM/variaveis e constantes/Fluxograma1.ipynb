{
  "nbformat": 4,
  "nbformat_minor": 0,
  "metadata": {
    "colab": {
      "provenance": [],
      "authorship_tag": "ABX9TyO6IRTZKrlPnnPEXu9AHQDh",
      "include_colab_link": true
    },
    "kernelspec": {
      "name": "python3",
      "display_name": "Python 3"
    },
    "language_info": {
      "name": "python"
    }
  },
  "cells": [
    {
      "cell_type": "markdown",
      "metadata": {
        "id": "view-in-github",
        "colab_type": "text"
      },
      "source": [
        "<a href=\"https://colab.research.google.com/github/PedroSachetto/PA_2025/blob/main/vari%C3%A1veis_e_operadores_aritimeticos/Fluxograma1.ipynb\" target=\"_parent\"><img src=\"https://colab.research.google.com/assets/colab-badge.svg\" alt=\"Open In Colab\"/></a>"
      ]
    },
    {
      "cell_type": "markdown",
      "source": [
        "#fluxogramas e operadores"
      ],
      "metadata": {
        "id": "ZZOw4ZHyzCjk"
      }
    },
    {
      "cell_type": "markdown",
      "source": [
        "#Exemplos#"
      ],
      "metadata": {
        "id": "aZBk-NPN9Tgc"
      }
    },
    {
      "cell_type": "markdown",
      "source": [
        "Calculo Media"
      ],
      "metadata": {
        "id": "rGL06K-f9uGY"
      }
    },
    {
      "cell_type": "code",
      "source": [
        "#Entrada"
      ],
      "metadata": {
        "id": "YwVdUTss9ciP"
      },
      "execution_count": null,
      "outputs": []
    },
    {
      "cell_type": "code",
      "source": [
        "num1 = int(input(\"Qual é o valor do numero 1:\"))"
      ],
      "metadata": {
        "colab": {
          "base_uri": "https://localhost:8080/"
        },
        "id": "A2B5XAVX9sET",
        "outputId": "4f463ff0-1a5a-4cad-ae2d-c03a2b51760a"
      },
      "execution_count": null,
      "outputs": [
        {
          "name": "stdout",
          "output_type": "stream",
          "text": [
            "Qual é o valor do numero 1:110\n"
          ]
        }
      ]
    },
    {
      "cell_type": "code",
      "source": [
        "num2= int(input(\"Qual valor do numero 2:\"))"
      ],
      "metadata": {
        "colab": {
          "base_uri": "https://localhost:8080/"
        },
        "id": "YM2mjmu2_Hwr",
        "outputId": "ed0d0584-14fc-4673-f730-aeb52b1ec893"
      },
      "execution_count": null,
      "outputs": [
        {
          "name": "stdout",
          "output_type": "stream",
          "text": [
            "Qual valor do numero 2:9\n"
          ]
        }
      ]
    },
    {
      "cell_type": "code",
      "source": [
        "#Processamento"
      ],
      "metadata": {
        "id": "SdB-YzhREIfG"
      },
      "execution_count": null,
      "outputs": []
    },
    {
      "cell_type": "code",
      "source": [
        "Media = (num1+num2)/2"
      ],
      "metadata": {
        "id": "z312adCW_UGr"
      },
      "execution_count": null,
      "outputs": []
    },
    {
      "cell_type": "code",
      "source": [
        "#Saida"
      ],
      "metadata": {
        "id": "P8Cl4BgGEMtc"
      },
      "execution_count": null,
      "outputs": []
    },
    {
      "cell_type": "code",
      "source": [
        "print(f\"A media é:{media}\")"
      ],
      "metadata": {
        "colab": {
          "base_uri": "https://localhost:8080/"
        },
        "id": "9891BNks_xxd",
        "outputId": "0a5d60bb-9221-42e9-a977-525a542de7cb"
      },
      "execution_count": null,
      "outputs": [
        {
          "output_type": "stream",
          "name": "stdout",
          "text": [
            "A media é:59.5\n"
          ]
        }
      ]
    },
    {
      "cell_type": "markdown",
      "source": [
        "Comissão"
      ],
      "metadata": {
        "id": "9ma2edpNET4N"
      }
    },
    {
      "cell_type": "code",
      "source": [
        "#Entrada"
      ],
      "metadata": {
        "id": "ofwR3sCKEkVB"
      },
      "execution_count": null,
      "outputs": []
    },
    {
      "cell_type": "code",
      "source": [
        "valordapeca=float(input(\"Qual é o valor da peça\"))"
      ],
      "metadata": {
        "colab": {
          "base_uri": "https://localhost:8080/"
        },
        "id": "M-8deZFSFB0L",
        "outputId": "f1fecc6a-4891-4f74-ec78-dc54f64441af"
      },
      "execution_count": null,
      "outputs": [
        {
          "name": "stdout",
          "output_type": "stream",
          "text": [
            "Qual é o valor da peça150\n"
          ]
        }
      ]
    },
    {
      "cell_type": "code",
      "source": [
        "quant =int(input(\"Qual foi a quantidade vendida\"))"
      ],
      "metadata": {
        "colab": {
          "base_uri": "https://localhost:8080/"
        },
        "id": "KtqZKGURF0in",
        "outputId": "33404869-9a44-46b9-aed0-6927e3f98894"
      },
      "execution_count": null,
      "outputs": [
        {
          "name": "stdout",
          "output_type": "stream",
          "text": [
            "Qual foi a quantidade vendida2\n"
          ]
        }
      ]
    },
    {
      "cell_type": "code",
      "source": [
        "#Processamento"
      ],
      "metadata": {
        "id": "-mu19NEeIRxf"
      },
      "execution_count": null,
      "outputs": []
    },
    {
      "cell_type": "code",
      "source": [
        "venda = valordapeca*quant"
      ],
      "metadata": {
        "id": "b8TLkIvwGHij"
      },
      "execution_count": null,
      "outputs": []
    },
    {
      "cell_type": "code",
      "source": [
        "comissao = (venda*5)/100"
      ],
      "metadata": {
        "id": "tjDt02CKHA-f"
      },
      "execution_count": null,
      "outputs": []
    },
    {
      "cell_type": "code",
      "source": [
        "#Saida"
      ],
      "metadata": {
        "id": "fPANFFZPIPDe"
      },
      "execution_count": null,
      "outputs": []
    },
    {
      "cell_type": "code",
      "source": [
        "print(f\"A sua comissão é:{comissao}\")"
      ],
      "metadata": {
        "colab": {
          "base_uri": "https://localhost:8080/"
        },
        "id": "3cBv7opAHd8_",
        "outputId": "054a3954-be23-4bff-d283-aa06688f7461"
      },
      "execution_count": null,
      "outputs": [
        {
          "output_type": "stream",
          "name": "stdout",
          "text": [
            "A sua comissão é:15.0\n"
          ]
        }
      ]
    },
    {
      "cell_type": "markdown",
      "source": [
        "Conversão De Moeda"
      ],
      "metadata": {
        "id": "eSdx2jgQAAid"
      }
    },
    {
      "cell_type": "code",
      "source": [
        "#Entrada"
      ],
      "metadata": {
        "id": "aB04yPlsD4G5"
      },
      "execution_count": null,
      "outputs": []
    },
    {
      "cell_type": "code",
      "source": [
        "valorreal= int(input(\"Valor da sua quantia de dinheiro\"))"
      ],
      "metadata": {
        "colab": {
          "base_uri": "https://localhost:8080/"
        },
        "id": "XmUuQvZ3AgS_",
        "outputId": "d4ac3354-eb3f-4789-f1ee-17c2d51eed1b"
      },
      "execution_count": null,
      "outputs": [
        {
          "name": "stdout",
          "output_type": "stream",
          "text": [
            "Valor da sua quantia de dinheiro100\n"
          ]
        }
      ]
    },
    {
      "cell_type": "code",
      "source": [
        "cotacao = float(input(\"O valor da cotação\"))"
      ],
      "metadata": {
        "colab": {
          "base_uri": "https://localhost:8080/"
        },
        "id": "8wpxJQaGBEwl",
        "outputId": "e866ff74-8a44-4448-ca8d-cddaf6f19cf2"
      },
      "execution_count": null,
      "outputs": [
        {
          "name": "stdout",
          "output_type": "stream",
          "text": [
            "O valor da cotação6\n"
          ]
        }
      ]
    },
    {
      "cell_type": "code",
      "source": [
        "#Processamento"
      ],
      "metadata": {
        "id": "dzOi71TmD4gi"
      },
      "execution_count": null,
      "outputs": []
    },
    {
      "cell_type": "code",
      "source": [
        "resultado = (valorreal/cotacao)"
      ],
      "metadata": {
        "id": "qq-xb5YmBE1p"
      },
      "execution_count": null,
      "outputs": []
    },
    {
      "cell_type": "code",
      "source": [
        "#Saida"
      ],
      "metadata": {
        "id": "QQGjjf5vD5hr"
      },
      "execution_count": null,
      "outputs": []
    },
    {
      "cell_type": "code",
      "source": [
        "print(f\"O resultado é:{resultado}\")"
      ],
      "metadata": {
        "colab": {
          "base_uri": "https://localhost:8080/"
        },
        "id": "p1E-PM98DjXd",
        "outputId": "2af6e535-a6eb-4812-fd4d-fe383506b177"
      },
      "execution_count": null,
      "outputs": [
        {
          "output_type": "stream",
          "name": "stdout",
          "text": [
            "O resultado é:16.666666666666668\n"
          ]
        }
      ]
    },
    {
      "cell_type": "markdown",
      "source": [
        "#Exercicios_1_ao_5#"
      ],
      "metadata": {
        "id": "XXQEj3utKYs1"
      }
    },
    {
      "cell_type": "markdown",
      "source": [
        "Exercício 1\n"
      ],
      "metadata": {
        "id": "frku6q0_233M"
      }
    },
    {
      "cell_type": "code",
      "source": [
        "#Entrada"
      ],
      "metadata": {
        "id": "P7zgYPPGWc0F"
      },
      "execution_count": null,
      "outputs": []
    },
    {
      "cell_type": "code",
      "source": [
        "carrofabri = int(input(\"Qual é o valor do carro\"))"
      ],
      "metadata": {
        "id": "bErSQfLK2wq7",
        "colab": {
          "base_uri": "https://localhost:8080/"
        },
        "outputId": "76a46850-593a-4a6a-928d-29f72f914ae0"
      },
      "execution_count": null,
      "outputs": [
        {
          "name": "stdout",
          "output_type": "stream",
          "text": [
            "Qual é o valor do carro25000\n"
          ]
        }
      ]
    },
    {
      "cell_type": "code",
      "source": [
        "#Processamento"
      ],
      "metadata": {
        "id": "ZqARc3O3Wcfx"
      },
      "execution_count": null,
      "outputs": []
    },
    {
      "cell_type": "code",
      "source": [
        "imposto = (carrofabri * 45/100 + carrofabri)"
      ],
      "metadata": {
        "id": "V0Cgr2gTzgAj"
      },
      "execution_count": null,
      "outputs": []
    },
    {
      "cell_type": "code",
      "source": [
        "valorfim = (imposto * 28/100 + imposto)"
      ],
      "metadata": {
        "id": "7iSKxgpj0IG_"
      },
      "execution_count": null,
      "outputs": []
    },
    {
      "cell_type": "code",
      "source": [
        "#Saida"
      ],
      "metadata": {
        "id": "Eh15vWqsWcLc"
      },
      "execution_count": null,
      "outputs": []
    },
    {
      "cell_type": "code",
      "source": [
        "print(f\"O valor para o cliente é:{valorfim}\")"
      ],
      "metadata": {
        "colab": {
          "base_uri": "https://localhost:8080/"
        },
        "id": "1dT0iwkr18yr",
        "outputId": "d8fa660b-4f35-4143-ea91-3768e1a1d130"
      },
      "execution_count": null,
      "outputs": [
        {
          "output_type": "stream",
          "name": "stdout",
          "text": [
            "O valor para o cliente é:46400.0\n"
          ]
        }
      ]
    },
    {
      "cell_type": "markdown",
      "source": [
        "Exercício 2"
      ],
      "metadata": {
        "id": "Yze6jfz02-tr"
      }
    },
    {
      "cell_type": "code",
      "source": [
        "#Entrada"
      ],
      "metadata": {
        "id": "6Zc_Ov_XW7Z1"
      },
      "execution_count": null,
      "outputs": []
    },
    {
      "cell_type": "code",
      "source": [
        "horas = int(input(\"Digite as horas\"))"
      ],
      "metadata": {
        "colab": {
          "base_uri": "https://localhost:8080/"
        },
        "id": "OO6cn_Ve3BPk",
        "outputId": "95838ec7-e9a2-42fb-fddc-2b56177e0ddf"
      },
      "execution_count": null,
      "outputs": [
        {
          "name": "stdout",
          "output_type": "stream",
          "text": [
            "Digite as horas7\n"
          ]
        }
      ]
    },
    {
      "cell_type": "code",
      "source": [
        "minutos = int(input(\"Digite os minutos\"))"
      ],
      "metadata": {
        "colab": {
          "base_uri": "https://localhost:8080/"
        },
        "id": "zOiLRPHK5IhB",
        "outputId": "09c679bc-0e91-438e-c8bc-092979fff881"
      },
      "execution_count": null,
      "outputs": [
        {
          "name": "stdout",
          "output_type": "stream",
          "text": [
            "Digite os minutos29\n"
          ]
        }
      ]
    },
    {
      "cell_type": "code",
      "source": [
        "#Processamento"
      ],
      "metadata": {
        "id": "KSNsKCx-W7sh"
      },
      "execution_count": null,
      "outputs": []
    },
    {
      "cell_type": "code",
      "source": [
        "tempo = horas+(minutos/60)"
      ],
      "metadata": {
        "id": "bpSHdF6D5Sac"
      },
      "execution_count": null,
      "outputs": []
    },
    {
      "cell_type": "code",
      "source": [
        "#Saida"
      ],
      "metadata": {
        "id": "rSWUnsFSW77F"
      },
      "execution_count": null,
      "outputs": []
    },
    {
      "cell_type": "code",
      "source": [
        "print(f\"{tempo}\")"
      ],
      "metadata": {
        "colab": {
          "base_uri": "https://localhost:8080/"
        },
        "id": "KMU4yGHg6v4h",
        "outputId": "4f6b4f2a-5930-4fa8-d0ab-5c074abda507"
      },
      "execution_count": null,
      "outputs": [
        {
          "output_type": "stream",
          "name": "stdout",
          "text": [
            "7.483333333333333\n"
          ]
        }
      ]
    },
    {
      "cell_type": "markdown",
      "source": [
        "Exercicio 3"
      ],
      "metadata": {
        "id": "Ln0ce85rOneU"
      }
    },
    {
      "cell_type": "code",
      "source": [
        "#Entrada"
      ],
      "metadata": {
        "id": "1rwj9zpuXM-K"
      },
      "execution_count": null,
      "outputs": []
    },
    {
      "cell_type": "code",
      "source": [
        "Hora =int(input(\"Digite Suas Horas Extras\"))"
      ],
      "metadata": {
        "colab": {
          "base_uri": "https://localhost:8080/"
        },
        "id": "Y3-zINciOsIT",
        "outputId": "d3419e75-9dd8-4779-a41b-e7569dc2a2f1"
      },
      "execution_count": null,
      "outputs": [
        {
          "name": "stdout",
          "output_type": "stream",
          "text": [
            "Digite Suas Horas Extras20\n"
          ]
        }
      ]
    },
    {
      "cell_type": "code",
      "source": [
        "Minuto = int(input(\"Digite Seus Minutos\"))"
      ],
      "metadata": {
        "colab": {
          "base_uri": "https://localhost:8080/"
        },
        "id": "FXH-TkbRO3l6",
        "outputId": "0167a15d-7757-42e5-fde1-a236ef04daf3"
      },
      "execution_count": null,
      "outputs": [
        {
          "name": "stdout",
          "output_type": "stream",
          "text": [
            "Digite Seus Minutos0\n"
          ]
        }
      ]
    },
    {
      "cell_type": "code",
      "source": [
        "dinextra= int(input(\"Qunto Você Recebe Por Tempo Extra \"))"
      ],
      "metadata": {
        "colab": {
          "base_uri": "https://localhost:8080/"
        },
        "id": "jpB9rUGnVN4m",
        "outputId": "6b93b3f6-b750-48a8-c67f-eb11128831b2"
      },
      "execution_count": null,
      "outputs": [
        {
          "name": "stdout",
          "output_type": "stream",
          "text": [
            "Qunto Você Recebe Por Tempo Extra 25\n"
          ]
        }
      ]
    },
    {
      "cell_type": "code",
      "source": [
        "#processamento"
      ],
      "metadata": {
        "id": "5-EqG9TNXWpS"
      },
      "execution_count": null,
      "outputs": []
    },
    {
      "cell_type": "code",
      "source": [
        "tempotra= Hora +(Minuto/60)"
      ],
      "metadata": {
        "id": "oRv1gdxSQRvY"
      },
      "execution_count": null,
      "outputs": []
    },
    {
      "cell_type": "code",
      "source": [
        "valor = tempotra*dinextra"
      ],
      "metadata": {
        "id": "ao1Z9K1IgMhG"
      },
      "execution_count": null,
      "outputs": []
    },
    {
      "cell_type": "code",
      "source": [
        "valorfinal = valor * 70/100 + valor"
      ],
      "metadata": {
        "id": "JrsNTtIzgymb"
      },
      "execution_count": null,
      "outputs": []
    },
    {
      "cell_type": "code",
      "source": [
        "#Saida"
      ],
      "metadata": {
        "id": "lKyrAVljXj_I"
      },
      "execution_count": null,
      "outputs": []
    },
    {
      "cell_type": "code",
      "source": [
        "print(f\"Seu Tempo Extra foi {tempotra}\")"
      ],
      "metadata": {
        "colab": {
          "base_uri": "https://localhost:8080/"
        },
        "id": "w-ui-Qo3RoSD",
        "outputId": "2de2f87a-d9f4-4eda-c109-7cbb51634f3d"
      },
      "execution_count": null,
      "outputs": [
        {
          "output_type": "stream",
          "name": "stdout",
          "text": [
            "Seu Tempo Extra foi 20.0\n"
          ]
        }
      ]
    },
    {
      "cell_type": "code",
      "source": [
        "print(valorfinal)"
      ],
      "metadata": {
        "colab": {
          "base_uri": "https://localhost:8080/"
        },
        "id": "Ba9Q0Rh-hD8q",
        "outputId": "d6601c42-ff8e-4dde-9346-f58475e97064"
      },
      "execution_count": null,
      "outputs": [
        {
          "output_type": "stream",
          "name": "stdout",
          "text": [
            "850.0\n"
          ]
        }
      ]
    },
    {
      "cell_type": "markdown",
      "source": [
        "Exercicio 4"
      ],
      "metadata": {
        "id": "Cv0LPiHpJAlI"
      }
    },
    {
      "cell_type": "code",
      "source": [
        "#Entrada"
      ],
      "metadata": {
        "id": "DEQXkAKQI_43"
      },
      "execution_count": null,
      "outputs": []
    },
    {
      "cell_type": "code",
      "source": [
        "capital=float(input(\"Digite o seu capital\"))"
      ],
      "metadata": {
        "colab": {
          "base_uri": "https://localhost:8080/"
        },
        "id": "eAydz_9oaJdr",
        "outputId": "e0d0a754-62d6-45cd-9335-3da05879eafa"
      },
      "execution_count": null,
      "outputs": [
        {
          "name": "stdout",
          "output_type": "stream",
          "text": [
            "Digite o seu capital23000\n"
          ]
        }
      ]
    },
    {
      "cell_type": "code",
      "source": [
        "taxa=float(input(\"Digite a taxa\"))"
      ],
      "metadata": {
        "colab": {
          "base_uri": "https://localhost:8080/"
        },
        "id": "bUMTb5CNaNVU",
        "outputId": "c253e74c-a3a2-4c31-eb69-dea9a86e897a"
      },
      "execution_count": null,
      "outputs": [
        {
          "name": "stdout",
          "output_type": "stream",
          "text": [
            "Digite a taxa5\n"
          ]
        }
      ]
    },
    {
      "cell_type": "code",
      "source": [
        "anos=int(input(\"O tempo em anos\"))"
      ],
      "metadata": {
        "colab": {
          "base_uri": "https://localhost:8080/"
        },
        "id": "h6W1HunlaNmt",
        "outputId": "cb95fc03-c2b5-4c64-bad8-5326a0bec3df"
      },
      "execution_count": null,
      "outputs": [
        {
          "name": "stdout",
          "output_type": "stream",
          "text": [
            "O tempo em anos1\n"
          ]
        }
      ]
    },
    {
      "cell_type": "code",
      "source": [
        "#Processamento"
      ],
      "metadata": {
        "id": "hS25BKzxJGYL"
      },
      "execution_count": null,
      "outputs": []
    },
    {
      "cell_type": "code",
      "source": [
        "taxaempor= (taxa/100)"
      ],
      "metadata": {
        "id": "wyEFejEmbqMm"
      },
      "execution_count": null,
      "outputs": []
    },
    {
      "cell_type": "code",
      "source": [
        "montante =capital*(1+taxaempor)**anos"
      ],
      "metadata": {
        "id": "BhBBn22da6u5"
      },
      "execution_count": null,
      "outputs": []
    },
    {
      "cell_type": "code",
      "source": [
        "#Saida"
      ],
      "metadata": {
        "id": "WflLkqfEJHiF"
      },
      "execution_count": null,
      "outputs": []
    },
    {
      "cell_type": "code",
      "source": [
        "print(f\"Seu Investimento rendeu :{montante}\")"
      ],
      "metadata": {
        "colab": {
          "base_uri": "https://localhost:8080/"
        },
        "id": "41VcIjhNcGAh",
        "outputId": "e94838cc-a317-4f34-8ad7-13415489c5bb"
      },
      "execution_count": null,
      "outputs": [
        {
          "output_type": "stream",
          "name": "stdout",
          "text": [
            "Seu Investimento rendeu :24150.0\n"
          ]
        }
      ]
    },
    {
      "cell_type": "markdown",
      "source": [
        "Exercicio 5"
      ],
      "metadata": {
        "id": "lew5oSUIla_a"
      }
    },
    {
      "cell_type": "code",
      "source": [
        "#Entrada"
      ],
      "metadata": {
        "id": "jPqMQuiAJW2S"
      },
      "execution_count": null,
      "outputs": []
    },
    {
      "cell_type": "code",
      "source": [
        "valordaconta= float(input(\"Digite o valor da conta\"))"
      ],
      "metadata": {
        "colab": {
          "base_uri": "https://localhost:8080/"
        },
        "id": "08JQDYcxgvt9",
        "outputId": "ffe6c5ec-1e3d-4348-fd30-d4b2d288c338"
      },
      "execution_count": null,
      "outputs": [
        {
          "name": "stdout",
          "output_type": "stream",
          "text": [
            "Digite o valor da conta254.94\n"
          ]
        }
      ]
    },
    {
      "cell_type": "code",
      "source": [
        "pessoas= int(input(\"Digite a quantidade de pessoas\"))"
      ],
      "metadata": {
        "colab": {
          "base_uri": "https://localhost:8080/"
        },
        "id": "qK5ePRMQgvCO",
        "outputId": "34cd68cd-4646-41d0-910e-1ac2e064cb60"
      },
      "execution_count": null,
      "outputs": [
        {
          "name": "stdout",
          "output_type": "stream",
          "text": [
            "Digite a quantidade de pessoas4\n"
          ]
        }
      ]
    },
    {
      "cell_type": "code",
      "source": [
        "#Processamento"
      ],
      "metadata": {
        "id": "jV1rdxz9JXHa"
      },
      "execution_count": null,
      "outputs": []
    },
    {
      "cell_type": "code",
      "source": [
        "taxa= (valordaconta*10/100)"
      ],
      "metadata": {
        "id": "j8Q2YrNliD6S"
      },
      "execution_count": null,
      "outputs": []
    },
    {
      "cell_type": "code",
      "source": [
        "valormaistaxa = (valordaconta+taxa)"
      ],
      "metadata": {
        "id": "yNxR5arojAo9"
      },
      "execution_count": null,
      "outputs": []
    },
    {
      "cell_type": "code",
      "source": [
        "valordivi=valormaistaxa/pessoas"
      ],
      "metadata": {
        "id": "DCx0rsqUjg8L"
      },
      "execution_count": null,
      "outputs": []
    },
    {
      "cell_type": "code",
      "source": [
        "#Saida"
      ],
      "metadata": {
        "id": "Bs2eZ2oEJXQC"
      },
      "execution_count": null,
      "outputs": []
    },
    {
      "cell_type": "code",
      "source": [
        "print(f\"O valor para dividir é: {taxa}\")"
      ],
      "metadata": {
        "colab": {
          "base_uri": "https://localhost:8080/"
        },
        "id": "Z2Ba9_JhgxdO",
        "outputId": "7f21730c-aeb6-4fe9-872e-5807fa9b99a6"
      },
      "execution_count": null,
      "outputs": [
        {
          "output_type": "stream",
          "name": "stdout",
          "text": [
            "O valor para dividir é: 25.494\n"
          ]
        }
      ]
    },
    {
      "cell_type": "code",
      "source": [
        "print(f\"O valor dividido é:{valordivi}\")"
      ],
      "metadata": {
        "colab": {
          "base_uri": "https://localhost:8080/"
        },
        "id": "YJ42_v1kj_Bx",
        "outputId": "cdd71ac2-92cb-4c93-d925-6848f6e331ec"
      },
      "execution_count": null,
      "outputs": [
        {
          "output_type": "stream",
          "name": "stdout",
          "text": [
            "O valor dividido é:70.10849999999999\n"
          ]
        }
      ]
    }
  ]
}