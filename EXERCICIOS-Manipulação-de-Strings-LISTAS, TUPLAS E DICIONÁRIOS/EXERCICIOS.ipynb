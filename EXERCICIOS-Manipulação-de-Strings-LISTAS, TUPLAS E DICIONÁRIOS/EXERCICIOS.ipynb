{
  "nbformat": 4,
  "nbformat_minor": 0,
  "metadata": {
    "colab": {
      "provenance": [],
      "authorship_tag": "ABX9TyOtFzdEjqJ23CdjIE39V8+h",
      "include_colab_link": true
    },
    "kernelspec": {
      "name": "python3",
      "display_name": "Python 3"
    },
    "language_info": {
      "name": "python"
    }
  },
  "cells": [
    {
      "cell_type": "markdown",
      "metadata": {
        "id": "view-in-github",
        "colab_type": "text"
      },
      "source": [
        "<a href=\"https://colab.research.google.com/github/PedroSachetto/PA_2025/blob/main/EXERCICIOS-Manipula%C3%A7%C3%A3o-de-Strings-LISTAS%2C%20TUPLAS%20E%20DICION%C3%81RIOS/EXERCICIOS.ipynb\" target=\"_parent\"><img src=\"https://colab.research.google.com/assets/colab-badge.svg\" alt=\"Open In Colab\"/></a>"
      ]
    },
    {
      "cell_type": "markdown",
      "source": [
        "##Manipulação de Strings##\n"
      ],
      "metadata": {
        "id": "3kRW9h-C3DQ7"
      }
    },
    {
      "cell_type": "code",
      "execution_count": null,
      "metadata": {
        "id": "S_kp0c-X3Bap"
      },
      "outputs": [],
      "source": [
        "# 1 - Use o método len para imprimir o comprimento da string.\n",
        "x = \"Hello World\"\n",
        "print(len(x))"
      ]
    },
    {
      "cell_type": "code",
      "source": [
        "# 2 - Obtenha o primeiro caractere da string txt.\n",
        "txt = \"Hello World\"\n",
        "txt[0]"
      ],
      "metadata": {
        "id": "1gHn32FA3USH"
      },
      "execution_count": null,
      "outputs": []
    },
    {
      "cell_type": "code",
      "source": [],
      "metadata": {
        "id": "6R3_wWYw5Mam"
      },
      "execution_count": null,
      "outputs": []
    },
    {
      "cell_type": "code",
      "source": [
        "# 3 - Obtenha os caracteres do índice 2 ao índice 4 ( llo).\n",
        "txt = \"Hello World\"\n",
        "txt[2:5]"
      ],
      "metadata": {
        "id": "2TboFwwu3W5N"
      },
      "execution_count": null,
      "outputs": []
    },
    {
      "cell_type": "code",
      "source": [
        "# 4 - Converta o valor de txt para maiúsculas.\n",
        "txt = \"Hello World\"\n",
        "txt.upper()"
      ],
      "metadata": {
        "id": "BabiJORD3Y4p"
      },
      "execution_count": null,
      "outputs": []
    },
    {
      "cell_type": "code",
      "source": [
        "# 5 - Conte quantas vezes aparece a palavra \"de\" na string abaixo\n",
        "txt = \"Eu gosto de vijar, tomar vinho, de estudar estudar programação, de estudar Pyhon\"\n",
        "txt.count('de')"
      ],
      "metadata": {
        "id": "IVqUkAUm3bGM"
      },
      "execution_count": null,
      "outputs": []
    },
    {
      "cell_type": "code",
      "source": [
        "# 6 - Separe a frase abaixo toda vez que encontrar um vírgula\n",
        "txt = \"Eu gosto de vijar, tomar vinho, de estudar estudar programação, de estudar Pyhon\"\n",
        "txt.split(',')"
      ],
      "metadata": {
        "id": "hSL_YnQI3gKy"
      },
      "execution_count": null,
      "outputs": []
    },
    {
      "cell_type": "code",
      "source": [
        "#7 - Peça ao usuário uma frase e substitua todas as ocorrências de espaço por “#”.\n",
        "txt = str(input(\"Digite uma frase: \"))\n",
        "txtxt = txt.replace(\" \",\"#\")\n",
        "print(txtxt)"
      ],
      "metadata": {
        "id": "s8LxuoEp3ios"
      },
      "execution_count": null,
      "outputs": []
    },
    {
      "cell_type": "code",
      "source": [
        "# 8 - Faça um programa que retorne True se duas strings lidas do teclado são palíndromas mútuas, ou seja, se uma é igual à outra quando lida de traz para frente ou False, se não forem.\n",
        "# Por exemplo: amor e roma\n",
        "\n",
        "txt = str(input(\"Digite uma palavra palíndromas: \"))\n",
        "txt2 = str(input(\"Digite uma palavra palíndroma: \"))\n",
        "\n",
        "if txt[::-1] == txt:\n",
        "  print(\"A palavra 1 é palídroma\")\n",
        "  if txt2[::-1] == txt2:\n",
        "    print(\"A palavra 2 é palíndroma\")\n",
        "  else:\n",
        "    print(\"A palavra 2 não é palídroma dela mesma\")\n",
        "  if txt[::-1] == txt2:\n",
        "    print(\"As palavras formam um palíndromo\")\n",
        "  else:\n",
        "    print(\"As palavras não são palídromas juntas\")\n",
        "else:\n",
        "  print(\"A palavra 1 não é palídroma dela mesma\")"
      ],
      "metadata": {
        "id": "aqLoDYJd3lNn"
      },
      "execution_count": null,
      "outputs": []
    },
    {
      "cell_type": "code",
      "source": [
        "# 9- Faça um programa que leia o nome do usuário e mostre o nome de traz para frente, utilizando somente letras maiúsculas.\n",
        "nome = str(input(\"Digite o seu nome: \"))\n",
        "\n",
        "nome.upper()[::-1]\n"
      ],
      "metadata": {
        "id": "3PMQKHSI3n4T"
      },
      "execution_count": null,
      "outputs": []
    },
    {
      "cell_type": "markdown",
      "source": [
        "#**LISTAS, TUPLAS E DICIONÁRIOS**"
      ],
      "metadata": {
        "id": "j8LpN9eb3z_e"
      }
    },
    {
      "cell_type": "markdown",
      "source": [
        "# **Exercícios**\n",
        "##Exercício 1: Manipulação de Listas\n",
        "\n",
        "- Defina uma lista com 5 nomes de cidades.\n",
        "- Adicione uma nova cidade ao final da lista.\n",
        "- Remova a segunda cidade da lista.\n",
        "- Imprima a lista resultante."
      ],
      "metadata": {
        "id": "I1TAVQoq4A12"
      }
    },
    {
      "cell_type": "code",
      "source": [
        "# seu código aqui...\n",
        "lista = [\"Ribeirão Pires\", \"São Paulo\", \"Santo andré\", \"Pará\", \"mauá\"]\n",
        "lista.append(\"Pindamonhangaba\")\n",
        "lista.pop(1)\n",
        "print(lista)"
      ],
      "metadata": {
        "id": "A0wbuE5G35mN"
      },
      "execution_count": null,
      "outputs": []
    },
    {
      "cell_type": "markdown",
      "source": [
        "##Exercício 2: Operações com Tuplas\n",
        "\n",
        "- Defina uma tupla com 4 cores.\n",
        "- Crie uma nova tupla que seja a concatenação da tupla original com outra contendo mais 2 cores.\n",
        "- Imprima a nova tupla.\n",
        "\n"
      ],
      "metadata": {
        "id": "xREAvw1c4GL1"
      }
    },
    {
      "cell_type": "code",
      "source": [
        "# seu código aqui...\n",
        "Cores = (\"Azul\",\"Rosa\",\"Roxo\",\"Preto\")\n",
        "Cores2 = Cores + (\"Laranja\", \"Verde\")\n",
        "print(Cores2)"
      ],
      "metadata": {
        "id": "yhBoIT-E4GrP"
      },
      "execution_count": null,
      "outputs": []
    },
    {
      "cell_type": "markdown",
      "source": [
        "##Exercício 3: Dicionários Simples\n",
        "\n",
        "Crie um dicionário para representar um aluno, contendo \"nome\", \"idade\" e \"curso\".\n",
        "- Atualize a idade do aluno.\n",
        "- Adicione uma nova chave \"nota\" com um valor.\n",
        "- Imprima o dicionário atualizado\n"
      ],
      "metadata": {
        "id": "XT42y0xU4I0T"
      }
    },
    {
      "cell_type": "code",
      "source": [
        "# seu código aqui...\n",
        "aluno = {\n",
        "    \"nome\":\"otavio\",\n",
        "    \"idade\": 99,\n",
        "    \"curso\": \"medicina\"\n",
        "}\n",
        "\n",
        "aluno[\"idade\"]=123\n",
        "aluno[\"nota\"]= 10\n",
        "print(aluno)"
      ],
      "metadata": {
        "id": "JYhifAi-4JCH"
      },
      "execution_count": null,
      "outputs": []
    },
    {
      "cell_type": "markdown",
      "source": [
        "##Exercício 4: Listas e Dicionários\n",
        "\n",
        "- Crie uma lista de dicionários, onde cada dicionário representa um produto com as chaves \"nome\" e \"preço\".\n",
        "- Adicione um novo produto à lista.\n",
        "- Atualize o preço do primeiro produto na lista.\n",
        "- Imprima a lista resultante."
      ],
      "metadata": {
        "id": "yH7e_MYt4KFQ"
      }
    },
    {
      "cell_type": "code",
      "source": [
        "# seu código aqui...\n",
        "produto1 = {\n",
        "    \"nome\":\"Lápis\",\n",
        "    \"preço\": 1\n",
        "\n",
        "}\n",
        "produto2 = {\n",
        "    \"nome\":\"Borracha\",\n",
        "    \"preço\": 1.50\n",
        "\n",
        "}\n",
        "produto3 = {\n",
        "    \"nome\":\"caneta\",\n",
        "    \"preço\": 1.90\n",
        "\n",
        "}\n",
        "\n",
        "produtos = [produto1, produto2]\n",
        "produtos.append(produto3)\n",
        "produto1[\"preço\"] = 1.20\n",
        "print(produtos)"
      ],
      "metadata": {
        "id": "nMIBS50r4KO4"
      },
      "execution_count": null,
      "outputs": []
    },
    {
      "cell_type": "markdown",
      "source": [
        "##Exercício 5: Analisando uma Lista de Tuplas\n",
        "\n",
        "- Crie uma lista de tuplas, onde cada tupla contém um par (nome, idade).\n",
        "- Encontre e imprima o nome da pessoa mais velha.\n",
        "- Encontre e imprima a idade média das pessoas."
      ],
      "metadata": {
        "id": "1GdOs5Pt4KW8"
      }
    },
    {
      "cell_type": "code",
      "source": [
        "# seu código aqui...\n",
        "\n",
        "dados = [\n",
        "    (\"Maria\", 123),\n",
        "    (\"Pedro\", 18),\n",
        "    (\"Marcos\", 5),\n",
        "    (\"Lucas\", 25)\n",
        "]\n"
      ],
      "metadata": {
        "id": "l9Jbk_cg4Kdr"
      },
      "execution_count": null,
      "outputs": []
    },
    {
      "cell_type": "code",
      "source": [
        "maisvelho = 0\n",
        "nomemaisvelho = \"\"\n",
        "\n",
        "if (dados[0][1])> maisvelho:\n",
        "  maisvelho = dados[0][1]\n",
        "  nomemaisvelho= dados[0][0]\n",
        "\n",
        "if (dados[1][1])> maisvelho:\n",
        "  maisvelho = dados[1][1]\n",
        "  nomemaisvelho= dados[1][0]\n",
        "\n",
        "if (dados[2][1])> maisvelho:\n",
        "  maisvelho = dados[2][1]\n",
        "  nomemaisvelho= dados[2][0]\n",
        "\n",
        "if (dados[3][1])> maisvelho:\n",
        "  maisvelho = dados[3][1]\n",
        "  nomemaisvelho= dados[3][0]\n",
        "media = (dados[0][1]+dados[1][1]+dados[2][1]+dados[3][1])/4\n",
        "\n",
        "print(f\"A pessoa mais velha é: {nomemaisvelho} com {maisvelho} anos de idade ,a media de idade é:{media}\" )"
      ],
      "metadata": {
        "id": "HuPNPMHc4yH1"
      },
      "execution_count": null,
      "outputs": []
    }
  ]
}