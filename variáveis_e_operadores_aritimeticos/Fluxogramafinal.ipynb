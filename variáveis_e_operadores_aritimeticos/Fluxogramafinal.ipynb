{
  "nbformat": 4,
  "nbformat_minor": 0,
  "metadata": {
    "colab": {
      "provenance": [],
      "authorship_tag": "ABX9TyMwTcvX2Bc2ij+dVsmpNY90",
      "include_colab_link": true
    },
    "kernelspec": {
      "name": "python3",
      "display_name": "Python 3"
    },
    "language_info": {
      "name": "python"
    }
  },
  "cells": [
    {
      "cell_type": "markdown",
      "metadata": {
        "id": "view-in-github",
        "colab_type": "text"
      },
      "source": [
        "<a href=\"https://colab.research.google.com/github/PedroSachetto/PA_2025/blob/main/vari%C3%A1veis_e_operadores_aritimeticos/Fluxogramafinal.ipynb\" target=\"_parent\"><img src=\"https://colab.research.google.com/assets/colab-badge.svg\" alt=\"Open In Colab\"/></a>"
      ]
    },
    {
      "cell_type": "markdown",
      "source": [
        "#fluxogramas e operadores"
      ],
      "metadata": {
        "id": "ZZOw4ZHyzCjk"
      }
    },
    {
      "cell_type": "markdown",
      "source": [
        "Exercício 1"
      ],
      "metadata": {
        "id": "frku6q0_233M"
      }
    },
    {
      "cell_type": "code",
      "source": [
        "#Entrada"
      ],
      "metadata": {
        "id": "2cNhVwMtnT_3"
      },
      "execution_count": null,
      "outputs": []
    },
    {
      "cell_type": "code",
      "source": [
        "carrofabri =25000"
      ],
      "metadata": {
        "id": "bErSQfLK2wq7"
      },
      "execution_count": null,
      "outputs": []
    },
    {
      "cell_type": "code",
      "source": [
        "#Processamento"
      ],
      "metadata": {
        "id": "L7-w2EYInaHJ"
      },
      "execution_count": null,
      "outputs": []
    },
    {
      "cell_type": "code",
      "source": [
        "imposto = (carrofabri * 45/100 + carrofabri)"
      ],
      "metadata": {
        "id": "V0Cgr2gTzgAj"
      },
      "execution_count": null,
      "outputs": []
    },
    {
      "cell_type": "code",
      "source": [
        "valorfim = (imposto * 28/100 + imposto)"
      ],
      "metadata": {
        "id": "7iSKxgpj0IG_"
      },
      "execution_count": null,
      "outputs": []
    },
    {
      "cell_type": "code",
      "source": [
        "#Saida"
      ],
      "metadata": {
        "id": "weCZ5smJngOQ"
      },
      "execution_count": null,
      "outputs": []
    },
    {
      "cell_type": "code",
      "source": [
        "print(f\"O valor para o cliente é:{valorfim}\")"
      ],
      "metadata": {
        "colab": {
          "base_uri": "https://localhost:8080/"
        },
        "id": "1dT0iwkr18yr",
        "outputId": "d8fa660b-4f35-4143-ea91-3768e1a1d130"
      },
      "execution_count": null,
      "outputs": [
        {
          "output_type": "stream",
          "name": "stdout",
          "text": [
            "O valor para o cliente é:46400.0\n"
          ]
        }
      ]
    },
    {
      "cell_type": "markdown",
      "source": [
        "Exercício 2"
      ],
      "metadata": {
        "id": "Yze6jfz02-tr"
      }
    },
    {
      "cell_type": "code",
      "source": [
        "#Entrada"
      ],
      "metadata": {
        "id": "3FiZbZxHnntt"
      },
      "execution_count": null,
      "outputs": []
    },
    {
      "cell_type": "code",
      "source": [
        "horas = int(input(\"Digite as horas\"))"
      ],
      "metadata": {
        "colab": {
          "base_uri": "https://localhost:8080/"
        },
        "id": "OO6cn_Ve3BPk",
        "outputId": "9c7837b1-fcc8-4e6f-e664-d302f2570df5"
      },
      "execution_count": null,
      "outputs": [
        {
          "name": "stdout",
          "output_type": "stream",
          "text": [
            "Digite as horas7\n"
          ]
        }
      ]
    },
    {
      "cell_type": "code",
      "source": [
        "minutos = int(input(\"Digite os minutos\"))"
      ],
      "metadata": {
        "colab": {
          "base_uri": "https://localhost:8080/"
        },
        "id": "zOiLRPHK5IhB",
        "outputId": "b377bb3c-b587-429d-dc50-6a1645834129"
      },
      "execution_count": null,
      "outputs": [
        {
          "name": "stdout",
          "output_type": "stream",
          "text": [
            "Digite os minutos29\n"
          ]
        }
      ]
    },
    {
      "cell_type": "code",
      "source": [
        "#Processamento"
      ],
      "metadata": {
        "id": "RgdLKmignsrT"
      },
      "execution_count": null,
      "outputs": []
    },
    {
      "cell_type": "code",
      "source": [
        "minuto = minutos/60"
      ],
      "metadata": {
        "id": "bpSHdF6D5Sac"
      },
      "execution_count": null,
      "outputs": []
    },
    {
      "cell_type": "code",
      "source": [
        "hora =horas + minuto"
      ],
      "metadata": {
        "id": "v4TquIR-6IhX"
      },
      "execution_count": null,
      "outputs": []
    },
    {
      "cell_type": "code",
      "source": [
        "#Saida"
      ],
      "metadata": {
        "id": "nhL3sIcnn0MC"
      },
      "execution_count": null,
      "outputs": []
    },
    {
      "cell_type": "code",
      "source": [
        "print(f\"{horas} h {minutos} = {hora}\")"
      ],
      "metadata": {
        "colab": {
          "base_uri": "https://localhost:8080/"
        },
        "id": "KMU4yGHg6v4h",
        "outputId": "eed64a88-4d5e-4b5f-c637-a68d02706844"
      },
      "execution_count": null,
      "outputs": [
        {
          "output_type": "stream",
          "name": "stdout",
          "text": [
            "7 h 29 = 7.483333333333333\n"
          ]
        }
      ]
    },
    {
      "cell_type": "markdown",
      "source": [
        "Exercicio 3"
      ],
      "metadata": {
        "id": "Ln0ce85rOneU"
      }
    },
    {
      "cell_type": "code",
      "source": [
        "#Entrada"
      ],
      "metadata": {
        "id": "hdsWDCjnn4nm"
      },
      "execution_count": null,
      "outputs": []
    },
    {
      "cell_type": "code",
      "source": [
        "Hora =int(input(\"Digite Suas Horas Extras\"))"
      ],
      "metadata": {
        "colab": {
          "base_uri": "https://localhost:8080/"
        },
        "id": "Y3-zINciOsIT",
        "outputId": "48f1cb91-ce56-448b-cd3c-8bc95de4eb69"
      },
      "execution_count": null,
      "outputs": [
        {
          "name": "stdout",
          "output_type": "stream",
          "text": [
            "Digite Suas Horas Extras15\n"
          ]
        }
      ]
    },
    {
      "cell_type": "code",
      "source": [
        "Minuto = int(input(\"Digite Seus Minutos\"))"
      ],
      "metadata": {
        "colab": {
          "base_uri": "https://localhost:8080/"
        },
        "id": "FXH-TkbRO3l6",
        "outputId": "107181df-298c-43a6-e60b-5651d6c89962"
      },
      "execution_count": null,
      "outputs": [
        {
          "name": "stdout",
          "output_type": "stream",
          "text": [
            "Digite Seus Minutos45\n"
          ]
        }
      ]
    },
    {
      "cell_type": "code",
      "source": [
        "#Processamento"
      ],
      "metadata": {
        "id": "fkyzTCeDn7hP"
      },
      "execution_count": null,
      "outputs": []
    },
    {
      "cell_type": "code",
      "source": [
        "Minutos = (Minuto/60)"
      ],
      "metadata": {
        "id": "oRv1gdxSQRvY"
      },
      "execution_count": null,
      "outputs": []
    },
    {
      "cell_type": "code",
      "source": [
        "Horas = Hora + Minutos"
      ],
      "metadata": {
        "id": "ePUBJuuRRc4r"
      },
      "execution_count": null,
      "outputs": []
    },
    {
      "cell_type": "code",
      "source": [
        "print(f\"Seu Tempo Extra foi {Horas}\")"
      ],
      "metadata": {
        "colab": {
          "base_uri": "https://localhost:8080/"
        },
        "id": "w-ui-Qo3RoSD",
        "outputId": "9e696ded-f17f-44e9-b477-53375dc37e8a"
      },
      "execution_count": null,
      "outputs": [
        {
          "output_type": "stream",
          "name": "stdout",
          "text": [
            "Seu Tempo Extra foi 15.75\n"
          ]
        }
      ]
    },
    {
      "cell_type": "code",
      "source": [
        "dindin= int(input(\"Qunto Você Recebe Por Tempo Extra \"))"
      ],
      "metadata": {
        "colab": {
          "base_uri": "https://localhost:8080/"
        },
        "id": "jpB9rUGnVN4m",
        "outputId": "404f272e-6b12-466a-aa1a-ec67c697f77b"
      },
      "execution_count": null,
      "outputs": [
        {
          "name": "stdout",
          "output_type": "stream",
          "text": [
            "Qunto Você Recebe Por Tempo Extra 25\n"
          ]
        }
      ]
    },
    {
      "cell_type": "code",
      "source": [
        "valor = Horas*dindin"
      ],
      "metadata": {
        "id": "ao1Z9K1IgMhG"
      },
      "execution_count": null,
      "outputs": []
    },
    {
      "cell_type": "code",
      "source": [
        "#Saida"
      ],
      "metadata": {
        "id": "0-cT5IdnoAcH"
      },
      "execution_count": null,
      "outputs": []
    },
    {
      "cell_type": "code",
      "source": [
        "valorfinal = valor * 70/100 + valor"
      ],
      "metadata": {
        "id": "JrsNTtIzgymb"
      },
      "execution_count": null,
      "outputs": []
    },
    {
      "cell_type": "code",
      "source": [
        "print(f\"Seu Ganho E De = {valorfinal}\")"
      ],
      "metadata": {
        "colab": {
          "base_uri": "https://localhost:8080/"
        },
        "id": "-Z6WyC1PoZ0o",
        "outputId": "c9614241-393b-42f9-d9c0-c1294e5e64cd"
      },
      "execution_count": null,
      "outputs": [
        {
          "output_type": "stream",
          "name": "stdout",
          "text": [
            "Seu Ganho E De = 669.375\n"
          ]
        }
      ]
    }
  ]
}