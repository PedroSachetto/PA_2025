{
  "nbformat": 4,
  "nbformat_minor": 0,
  "metadata": {
    "colab": {
      "provenance": [],
      "include_colab_link": true
    },
    "kernelspec": {
      "name": "python3",
      "display_name": "Python 3"
    },
    "language_info": {
      "name": "python"
    }
  },
  "cells": [
    {
      "cell_type": "markdown",
      "metadata": {
        "id": "view-in-github",
        "colab_type": "text"
      },
      "source": [
        "<a href=\"https://colab.research.google.com/github/PedroSachetto/PA_2025/blob/main/4-BIM/Fun%C3%A7%C3%B5es.ipynb\" target=\"_parent\"><img src=\"https://colab.research.google.com/assets/colab-badge.svg\" alt=\"Open In Colab\"/></a>"
      ]
    },
    {
      "cell_type": "markdown",
      "source": [
        "#Estou definindo as funções sem retorno\n",
        "\n"
      ],
      "metadata": {
        "id": "xniWxQwZNioY"
      }
    },
    {
      "cell_type": "code",
      "execution_count": null,
      "metadata": {
        "id": "jaFsUVnEMRjS"
      },
      "outputs": [],
      "source": [
        "def soma(x,y):\n",
        "  total= x+y\n",
        "  print(total)\n",
        "\n",
        "def diminuir(x,y):\n",
        "  subtrai = x-y\n",
        "  print(subtrai)"
      ]
    },
    {
      "cell_type": "markdown",
      "source": [
        "#Agora vou chamar as funções"
      ],
      "metadata": {
        "id": "kI12e29lNnjX"
      }
    },
    {
      "cell_type": "code",
      "source": [
        "valor1= float(input(\"Digite o primeiro valor: \"))\n",
        "valor2= float(input(\"Digite o segundo valor: \"))\n",
        "soma(valor1,valor2)\n",
        "diminuir(valor1,valor2)\n",
        "print(total,subtrai)"
      ],
      "metadata": {
        "colab": {
          "base_uri": "https://localhost:8080/",
          "height": 245
        },
        "id": "fP2lDvm0NrIE",
        "outputId": "d251d3ac-3b14-4e95-8bf4-e4f1ed7f5313"
      },
      "execution_count": null,
      "outputs": [
        {
          "output_type": "stream",
          "name": "stdout",
          "text": [
            "Digite o primeiro valor: 10\n",
            "Digite o segundo valor: 8\n",
            "18.0\n",
            "2.0\n"
          ]
        },
        {
          "output_type": "error",
          "ename": "NameError",
          "evalue": "name 'total' is not defined",
          "traceback": [
            "\u001b[0;31m---------------------------------------------------------------------------\u001b[0m",
            "\u001b[0;31mNameError\u001b[0m                                 Traceback (most recent call last)",
            "\u001b[0;32m/tmp/ipython-input-1353028887.py\u001b[0m in \u001b[0;36m<cell line: 0>\u001b[0;34m()\u001b[0m\n\u001b[1;32m      3\u001b[0m \u001b[0msoma\u001b[0m\u001b[0;34m(\u001b[0m\u001b[0mvalor1\u001b[0m\u001b[0;34m,\u001b[0m\u001b[0mvalor2\u001b[0m\u001b[0;34m)\u001b[0m\u001b[0;34m\u001b[0m\u001b[0;34m\u001b[0m\u001b[0m\n\u001b[1;32m      4\u001b[0m \u001b[0mdiminuir\u001b[0m\u001b[0;34m(\u001b[0m\u001b[0mvalor1\u001b[0m\u001b[0;34m,\u001b[0m\u001b[0mvalor2\u001b[0m\u001b[0;34m)\u001b[0m\u001b[0;34m\u001b[0m\u001b[0;34m\u001b[0m\u001b[0m\n\u001b[0;32m----> 5\u001b[0;31m \u001b[0mprint\u001b[0m\u001b[0;34m(\u001b[0m\u001b[0mtotal\u001b[0m\u001b[0;34m,\u001b[0m\u001b[0msubtrai\u001b[0m\u001b[0;34m)\u001b[0m\u001b[0;34m\u001b[0m\u001b[0;34m\u001b[0m\u001b[0m\n\u001b[0m",
            "\u001b[0;31mNameError\u001b[0m: name 'total' is not defined"
          ]
        }
      ]
    },
    {
      "cell_type": "markdown",
      "source": [
        "#Estou definindo funções com retorno\n"
      ],
      "metadata": {
        "id": "Z2ohz9HZQm1M"
      }
    },
    {
      "cell_type": "code",
      "source": [
        "def multi(x,y):\n",
        "  total= x*y\n",
        "  return total\n",
        "def divisao(x,y):\n",
        "  total= x/y\n",
        "  return total"
      ],
      "metadata": {
        "id": "nmWXN7AgRZwg"
      },
      "execution_count": null,
      "outputs": []
    },
    {
      "cell_type": "markdown",
      "source": [
        "#Chamando funções com retorno"
      ],
      "metadata": {
        "id": "Lh4KeGV2ST7E"
      }
    },
    {
      "cell_type": "code",
      "source": [
        "valor1= float(input(\"Digite o primeiro valor: \"))\n",
        "valor2= float(input(\"Digite o segundo valor: \"))\n",
        "multiplicacao= multi(valor1, valor2)\n",
        "divisao= divisao(valor1, valor2)\n",
        "\n",
        "print(\"A multiplicação é:\",multiplicacao)\n",
        "print(\"O Resultado da divisão é:\",divisao)"
      ],
      "metadata": {
        "colab": {
          "base_uri": "https://localhost:8080/"
        },
        "id": "jSLQ9gl-SWxa",
        "outputId": "5396f042-5640-44a9-ff5f-3e370337f8dc"
      },
      "execution_count": null,
      "outputs": [
        {
          "output_type": "stream",
          "name": "stdout",
          "text": [
            "Digite o primeiro valor: 10\n",
            "Digite o segundo valor: 10\n",
            "A multiplicação é: 100.0\n",
            "O Resultado da divisão é: 1.0\n"
          ]
        }
      ]
    },
    {
      "cell_type": "markdown",
      "source": [
        "#Funções sem retorno e sem parâmetro"
      ],
      "metadata": {
        "id": "sZ72skDoU32g"
      }
    },
    {
      "cell_type": "code",
      "source": [
        "def saudacao():\n",
        "  print(\"Olá! Seja bem-vindo(a) ao curso de Python!\")"
      ],
      "metadata": {
        "id": "6iO-mh_qU9vS"
      },
      "execution_count": null,
      "outputs": []
    },
    {
      "cell_type": "code",
      "source": [
        "saudacao()"
      ],
      "metadata": {
        "colab": {
          "base_uri": "https://localhost:8080/"
        },
        "id": "qJXK3yPgVBhv",
        "outputId": "2b8b17e4-ae44-4235-b88c-71943af444b1"
      },
      "execution_count": null,
      "outputs": [
        {
          "output_type": "stream",
          "name": "stdout",
          "text": [
            "Olá! Seja bem-vindo(a) ao curso de Python!\n"
          ]
        }
      ]
    },
    {
      "cell_type": "code",
      "source": [
        "from datetime import datetime\n",
        "\n",
        "def mostrar_horario():\n",
        "    agora = datetime.now()\n",
        "    print(f\"Horário atual: {agora.strftime('%H:%M:%S')}\")"
      ],
      "metadata": {
        "id": "MY6W72fyW-MM"
      },
      "execution_count": null,
      "outputs": []
    },
    {
      "cell_type": "code",
      "source": [
        "mostrar_horario()"
      ],
      "metadata": {
        "colab": {
          "base_uri": "https://localhost:8080/"
        },
        "id": "gRGHBsCnXBT-",
        "outputId": "7933a948-e546-44a4-a0d3-2326c5df14e6"
      },
      "execution_count": null,
      "outputs": [
        {
          "output_type": "stream",
          "name": "stdout",
          "text": [
            "Horário atual: 18:22:39\n"
          ]
        }
      ]
    },
    {
      "cell_type": "markdown",
      "source": [
        "#Função com parâmetro e sem retorno\n"
      ],
      "metadata": {
        "id": "V7y2rhh2Yjay"
      }
    },
    {
      "cell_type": "code",
      "source": [
        "def apresentar(nome):\n",
        "  print(f\"Olá, {nome}! Prazer em te conhecer.\")"
      ],
      "metadata": {
        "id": "fmUQ7JhdYn7C"
      },
      "execution_count": null,
      "outputs": []
    },
    {
      "cell_type": "code",
      "source": [
        "nome= input(\"Digite seu nome: \")\n",
        "apresentar(nome)"
      ],
      "metadata": {
        "colab": {
          "base_uri": "https://localhost:8080/"
        },
        "id": "01C48olwZAUA",
        "outputId": "0a09717f-a28c-4331-c59f-5ee7bd17490a"
      },
      "execution_count": null,
      "outputs": [
        {
          "output_type": "stream",
          "name": "stdout",
          "text": [
            "Digite seu nome: João\n",
            "Olá, João! Prazer em te conhecer.\n"
          ]
        }
      ]
    },
    {
      "cell_type": "code",
      "source": [
        "def verificar_paridade(numero):\n",
        "  if numero % 2 == 0:\n",
        "    print(f\"O número {numero} é PAR!\")\n",
        "  else:\n",
        "    print(f\"O número {numero} é ÍMPAR\")\n",
        "\n",
        "verificar_paridade(7)\n",
        "verificar_paridade(12)"
      ],
      "metadata": {
        "colab": {
          "base_uri": "https://localhost:8080/"
        },
        "id": "Ptrtkb8XaDGl",
        "outputId": "d32e4710-3774-400a-9c0c-0748d76440d3"
      },
      "execution_count": null,
      "outputs": [
        {
          "output_type": "stream",
          "name": "stdout",
          "text": [
            "O número 7 é ÍMPAR\n",
            "O número 12 é PAR!\n"
          ]
        }
      ]
    },
    {
      "cell_type": "code",
      "source": [
        "def boas_vindas(nome, curso):\n",
        "  print(f\"Olá, {nome}! Seja Bem Vindo ao Curso de {curso}\")\n",
        "\n",
        "nome= input(\"Digite seu nome: \")\n",
        "curso= \"Programação\"\n",
        "boas_vindas(nome,curso)"
      ],
      "metadata": {
        "colab": {
          "base_uri": "https://localhost:8080/"
        },
        "id": "yHfNOw9Fa8oR",
        "outputId": "88fdc7e0-dc5d-483f-ac76-50c78bd9ce60"
      },
      "execution_count": null,
      "outputs": [
        {
          "output_type": "stream",
          "name": "stdout",
          "text": [
            "Digite seu nome: João\n",
            "Olá, João! Seja Bem Vindo ao Curso de Programação\n"
          ]
        }
      ]
    },
    {
      "cell_type": "markdown",
      "source": [
        "#Função sem Parâmetro e com Retorno"
      ],
      "metadata": {
        "id": "t1OfShVLb5na"
      }
    },
    {
      "cell_type": "code",
      "source": [
        "def mensagem():\n",
        "  return \"Hoje é um ótimo dia para programar!\""
      ],
      "metadata": {
        "id": "hdRnoignb45G"
      },
      "execution_count": null,
      "outputs": []
    },
    {
      "cell_type": "code",
      "source": [
        "mensagem()"
      ],
      "metadata": {
        "colab": {
          "base_uri": "https://localhost:8080/",
          "height": 35
        },
        "id": "zvV8ObeEcHpe",
        "outputId": "e98faeda-4951-4151-c233-3fa70a2b3335"
      },
      "execution_count": null,
      "outputs": [
        {
          "output_type": "execute_result",
          "data": {
            "text/plain": [
              "'Hoje é um ótimo dia para programar!'"
            ],
            "application/vnd.google.colaboratory.intrinsic+json": {
              "type": "string"
            }
          },
          "metadata": {},
          "execution_count": 23
        }
      ]
    },
    {
      "cell_type": "code",
      "source": [
        "usar= mensagem()\n",
        "print(\"É sexta,\",usar)"
      ],
      "metadata": {
        "colab": {
          "base_uri": "https://localhost:8080/"
        },
        "id": "ha_qcUGqcsIC",
        "outputId": "38ea4ab4-5bb7-40d0-c884-2f6cc2aa4003"
      },
      "execution_count": null,
      "outputs": [
        {
          "output_type": "stream",
          "name": "stdout",
          "text": [
            "É sexta, Hoje é um ótimo dia para programar!\n"
          ]
        }
      ]
    },
    {
      "cell_type": "markdown",
      "source": [
        "#Teste"
      ],
      "metadata": {
        "id": "oivkfc3QpDr8"
      }
    },
    {
      "cell_type": "code",
      "source": [
        "def somadenotas():\n",
        "  nota1= float(input(\"Digite a primeira nota: \"))\n",
        "  nota2= float(input(\"Digite a segunda nota: \"))\n",
        "  nota3= float(input(\"Digite a terceira nota: \"))\n",
        "  total= nota1+nota2+nota3\n",
        "  return total\n",
        "\n",
        "somatresnotas= somadenotas()\n",
        "\n",
        "def medianota():\n",
        "  media= somatresnotas/3\n",
        "  return media\n",
        "\n",
        "mediatresnotas= medianota()\n",
        "\n",
        "print(\"A soma das notas é de\", somatresnotas)\n",
        "print(\"A média das notas é de\", mediatresnotas)"
      ],
      "metadata": {
        "colab": {
          "base_uri": "https://localhost:8080/"
        },
        "id": "ZYOi-_eLnyDk",
        "outputId": "59fb27ed-3868-4b8c-9919-5c178e24d173"
      },
      "execution_count": null,
      "outputs": [
        {
          "output_type": "stream",
          "name": "stdout",
          "text": [
            "Digite a primeira nota: 10\n",
            "Digite a segunda nota: 10\n",
            "Digite a terceira nota: 10\n",
            "A soma das notas é de 30.0\n",
            "A média das notas é de 10.0\n"
          ]
        }
      ]
    },
    {
      "cell_type": "markdown",
      "source": [
        "#Função com Parâmetro e com Retorno"
      ],
      "metadata": {
        "id": "dhG377onqEco"
      }
    },
    {
      "cell_type": "code",
      "source": [
        "def calcular_total(preco_unitario,quantidade):\n",
        "  total = preco_unitario * quantidade\n",
        "  return total\n",
        "\n",
        "preco_unitario = float(input(\"qual o preço do produto: \"))\n",
        "quantidade = float(input(\"qual o quantidade de produto: \"))"
      ],
      "metadata": {
        "colab": {
          "base_uri": "https://localhost:8080/"
        },
        "id": "PWfkCSRqqNmY",
        "outputId": "83b75721-ba83-4bfe-f7bb-7981a4c992a7"
      },
      "execution_count": null,
      "outputs": [
        {
          "name": "stdout",
          "output_type": "stream",
          "text": [
            "qual o preço do produto: 5\n",
            "qual o quantidade de produto: 2\n"
          ]
        }
      ]
    },
    {
      "cell_type": "code",
      "source": [
        "valor = calcular_total(preco_unitario, quantidade)\n",
        "print(f\"O preço final ficou {valor}\")"
      ],
      "metadata": {
        "colab": {
          "base_uri": "https://localhost:8080/"
        },
        "id": "D5CYYTxAs8gy",
        "outputId": "c43cdeb8-bce8-4a20-9ea5-b17d0ba0bb9d"
      },
      "execution_count": null,
      "outputs": [
        {
          "output_type": "stream",
          "name": "stdout",
          "text": [
            "O preço final ficou 10.0\n"
          ]
        }
      ]
    },
    {
      "cell_type": "code",
      "source": [
        "def calcular_imc(peso, altura):\n",
        "  imc = peso / (altura ** 2)\n",
        "  return imc\n",
        "\n",
        "peso = float(input(\"Digite seu peso (kg): \"))\n",
        "altura = float(input(\"Digite sua altura (m): \"))\n",
        "\n",
        "resultado = calcular_imc(peso, altura)\n",
        "print(f\"Seu IMC é {resultado:.2f}\")"
      ],
      "metadata": {
        "id": "lX65-0KwuVcI",
        "colab": {
          "base_uri": "https://localhost:8080/"
        },
        "outputId": "fd9550d1-24c3-414c-d3b8-5a87c0f24313"
      },
      "execution_count": null,
      "outputs": [
        {
          "output_type": "stream",
          "name": "stdout",
          "text": [
            "Digite seu peso (kg): 74\n",
            "Digite sua altura (m): 1.78\n",
            "Seu IMC é 23.36\n"
          ]
        }
      ]
    },
    {
      "cell_type": "code",
      "source": [
        "def calcular_soma_e_media(a, b, c):\n",
        "  soma = a + b + c\n",
        "  media = soma / 3\n",
        "  return soma, media\n",
        "\n",
        "n1 = float(input(\"Digite o primeiro número: \"))\n",
        "n2 = float(input(\"Digite o segundo número: \"))\n",
        "n3 = float(input(\"Digite o terceiro número: \"))\n",
        "\n",
        "resultado_soma, resultado_media = calcular_soma_e_media(n1, n2, n3)\n",
        "\n",
        "print(f\"A soma é {resultado_soma:.2f}\")\n",
        "print(f\"A média é {resultado_media:.2f}\")"
      ],
      "metadata": {
        "colab": {
          "base_uri": "https://localhost:8080/"
        },
        "id": "XmUvG42arsgT",
        "outputId": "f79369fe-bf11-4bac-805b-3e43117f5ca2"
      },
      "execution_count": null,
      "outputs": [
        {
          "output_type": "stream",
          "name": "stdout",
          "text": [
            "Digite o primeiro número: 8\n",
            "Digite o segundo número: 9\n",
            "Digite o terceiro número: 10\n",
            "A soma é 27.00\n",
            "A média é 9.00\n"
          ]
        }
      ]
    },
    {
      "cell_type": "markdown",
      "source": [
        "#EXERCICIOS"
      ],
      "metadata": {
        "id": "-MmnVgrDPoBS"
      }
    },
    {
      "cell_type": "markdown",
      "source": [
        "1)Mensagem de Boas-vindas\n"
      ],
      "metadata": {
        "id": "iS8TogXWP6o_"
      }
    },
    {
      "cell_type": "code",
      "source": [
        "def boas_vindas():\n",
        "    print(\"BOM,boas vindas\")"
      ],
      "metadata": {
        "id": "hUqcpxgEPwp4"
      },
      "execution_count": null,
      "outputs": []
    },
    {
      "cell_type": "markdown",
      "source": [
        "2)Conversor de Temperatura"
      ],
      "metadata": {
        "id": "XXZE8K5CP92e"
      }
    },
    {
      "cell_type": "code",
      "source": [
        "def trasformaremfahren(celsius):\n",
        "    fahrenheit = celsius * (9 / 5) + 32\n",
        "    return fahrenheit"
      ],
      "metadata": {
        "id": "PdmdNDSKQDBT"
      },
      "execution_count": null,
      "outputs": []
    },
    {
      "cell_type": "code",
      "source": [
        "resultado = trasformaremfahren(10)\n",
        "print(resultado)"
      ],
      "metadata": {
        "id": "R8F_4Bn8QO7x"
      },
      "execution_count": null,
      "outputs": []
    },
    {
      "cell_type": "markdown",
      "source": [
        "3)Mensagem Personalizada"
      ],
      "metadata": {
        "id": "J7JzBea6QGjx"
      }
    },
    {
      "cell_type": "code",
      "source": [
        "def boas_vindas_personalizada(nome):\n",
        "  print(f\"Olá, {nome}! Seja bem-vindo.\")\n",
        "nome_usuario = input(\"Digite seu nome: \")"
      ],
      "metadata": {
        "colab": {
          "base_uri": "https://localhost:8080/"
        },
        "id": "TcR_dBnuQQYU",
        "outputId": "cb4a2abe-712c-4086-8e2f-d5db8ef94a04"
      },
      "execution_count": null,
      "outputs": [
        {
          "name": "stdout",
          "output_type": "stream",
          "text": [
            "Digite seu nome: pedro\n"
          ]
        }
      ]
    },
    {
      "cell_type": "code",
      "source": [
        "boas_vindas_personalizada(nome_usuario)"
      ],
      "metadata": {
        "colab": {
          "base_uri": "https://localhost:8080/"
        },
        "id": "5tVrd-nGQ5u5",
        "outputId": "14569aee-c0fc-4c2d-a698-f5cd8a91e054"
      },
      "execution_count": null,
      "outputs": [
        {
          "output_type": "stream",
          "name": "stdout",
          "text": [
            "Olá, pedro! Seja bem-vindo.\n"
          ]
        }
      ]
    },
    {
      "cell_type": "markdown",
      "source": [
        "4)Quadrado e Cubo"
      ],
      "metadata": {
        "id": "-4NkUDFhQa8Q"
      }
    },
    {
      "cell_type": "code",
      "source": [
        "def calcular_potencias(p):\n",
        "    quadrado = p ** 2\n",
        "    cubo = p ** 3\n",
        "    return quadrado, cubo"
      ],
      "metadata": {
        "id": "X22-IUr9Rcpg"
      },
      "execution_count": null,
      "outputs": []
    },
    {
      "cell_type": "code",
      "source": [
        "numero = int(input(\"Digite um número: \"))\n",
        "resultado = calcular_potencias(numero)\n",
        "print(\"Quadrado e Cubo:\", resultado)\n"
      ],
      "metadata": {
        "colab": {
          "base_uri": "https://localhost:8080/"
        },
        "id": "iEQtVkipRgHM",
        "outputId": "438ab0d9-8a9b-4989-8849-99f4fc0bfba5"
      },
      "execution_count": null,
      "outputs": [
        {
          "output_type": "stream",
          "name": "stdout",
          "text": [
            "Digite um número: 3\n",
            "Quadrado e Cubo: (9, 27)\n"
          ]
        }
      ]
    },
    {
      "cell_type": "markdown",
      "source": [
        "5)Contagem Regressiva"
      ],
      "metadata": {
        "id": "84cvd26URmKI"
      }
    },
    {
      "cell_type": "code",
      "source": [
        "def contagem_regressiva():\n",
        "    inicio = int(input(\"Digite o número inicial da contagem regressiva: \"))\n",
        "\n",
        "    for t in range(inicio, 0, -1):\n",
        "        print(t)\n"
      ],
      "metadata": {
        "id": "6-dSYDIyRplh"
      },
      "execution_count": null,
      "outputs": []
    },
    {
      "cell_type": "code",
      "source": [
        "contagem_regressiva()"
      ],
      "metadata": {
        "colab": {
          "base_uri": "https://localhost:8080/"
        },
        "id": "oiVogDheRt4Q",
        "outputId": "de3bc85c-b360-4714-9999-720f83b474d0"
      },
      "execution_count": null,
      "outputs": [
        {
          "output_type": "stream",
          "name": "stdout",
          "text": [
            "Digite o número inicial da contagem regressiva: 10\n",
            "10\n",
            "9\n",
            "8\n",
            "7\n",
            "6\n",
            "5\n",
            "4\n",
            "3\n",
            "2\n",
            "1\n"
          ]
        }
      ]
    },
    {
      "cell_type": "markdown",
      "source": [
        "6)Cálculo de Desconto"
      ],
      "metadata": {
        "id": "rv2tGWtER0fN"
      }
    },
    {
      "cell_type": "code",
      "source": [
        "def calcular_desconto(valor_original, percentual_desconto):\n",
        "    return valor_original * (1 - percentual_desconto / 100)\n"
      ],
      "metadata": {
        "id": "Ckh_TN3MR0Do"
      },
      "execution_count": null,
      "outputs": []
    },
    {
      "cell_type": "code",
      "source": [
        "valor = float(input(\"Digite o valor original: \"))\n",
        "desconto = float(input(\"Digite o percentual de desconto: \"))\n",
        "resultado = calcular_desconto(valor, desconto)\n",
        "print(f\"Valor final com desconto: {resultado:}\")"
      ],
      "metadata": {
        "colab": {
          "base_uri": "https://localhost:8080/"
        },
        "id": "QJnwC2pQR5PV",
        "outputId": "cbcfc57b-ccd2-49d1-b7ff-150bf82c7595"
      },
      "execution_count": null,
      "outputs": [
        {
          "output_type": "stream",
          "name": "stdout",
          "text": [
            "Digite o valor original: 200\n",
            "Digite o percentual de desconto: 10\n",
            "Valor final com desconto: 180.0\n"
          ]
        }
      ]
    },
    {
      "cell_type": "markdown",
      "source": [
        "7)Maior e Menor"
      ],
      "metadata": {
        "id": "C6dso8dGR-mN"
      }
    },
    {
      "cell_type": "code",
      "source": [
        "def encontrar_extremos(lista):\n",
        "    maior = max(lista)\n",
        "    menor = min(lista)\n",
        "    return maior, menor"
      ],
      "metadata": {
        "id": "j65vZzw-S_y4"
      },
      "execution_count": null,
      "outputs": []
    },
    {
      "cell_type": "code",
      "source": [
        "numeros = [10, 5, 23, 7, 15]\n",
        "maior, menor = encontrar_extremos(numeros)\n",
        "print(f\"Maior: {maior}, Menor: {menor}\")"
      ],
      "metadata": {
        "colab": {
          "base_uri": "https://localhost:8080/"
        },
        "id": "MCQaDfJES_2c",
        "outputId": "bf3072b9-2f01-4d3a-de2e-12b52988cfdd"
      },
      "execution_count": null,
      "outputs": [
        {
          "output_type": "stream",
          "name": "stdout",
          "text": [
            "Maior: 23, Menor: 5\n"
          ]
        }
      ]
    },
    {
      "cell_type": "markdown",
      "source": [
        "8)Calculadora Simples"
      ],
      "metadata": {
        "id": "89PqSPwNSC5u"
      }
    },
    {
      "cell_type": "code",
      "source": [
        "def calculadora(a,b,operacao):\n",
        "\n",
        "  if operacao == 'soma':\n",
        "       return a + b\n",
        "\n",
        "  elif operacao == 'subtracao':\n",
        "      return a - b\n",
        "\n",
        "  elif operacao == 'multiplicacao':\n",
        "      return a * b\n",
        "\n",
        "  elif operacao == 'divisao':\n",
        "      if b != 0:\n",
        "         return a / b\n",
        "      else:\n",
        "         return \"Erro: divisão por zero!\"\n",
        "  else:\n",
        "     return \"Operação inválida\""
      ],
      "metadata": {
        "id": "AdZ53cZsS7lP"
      },
      "execution_count": null,
      "outputs": []
    },
    {
      "cell_type": "code",
      "source": [
        "a = float(input(\"Digite o primeiro número: \"))\n",
        "b = float(input(\"Digite o segundo número: \"))\n",
        "operacao = input(\"Digite a operação (soma, subtracao, multiplicacao, divisao): \").lower()\n",
        "resultado = calculadora(a,b,operacao)\n",
        "print(\"Resultado:\", resultado)\n"
      ],
      "metadata": {
        "id": "8CL1NbJfS977"
      },
      "execution_count": null,
      "outputs": []
    },
    {
      "cell_type": "markdown",
      "source": [
        "9)Mensagem Automática\n"
      ],
      "metadata": {
        "id": "2UJOgnHPSDXO"
      }
    },
    {
      "cell_type": "code",
      "source": [
        "def enviar_email():\n",
        "  destinatario = input(\"Digite o destinatário do email: \")\n",
        "  assunto = input(\"Digite o assunto do email: \")\n",
        "  corpo = input(\"Digite o corpo do email (ou deixe vazio para usar padrão): \")\n",
        "\n",
        "  if corpo == \"\":\n",
        "        corpo = \"Este é um email automático.\"\n",
        "\n",
        "  print(\"\\nEnviando email\")\n",
        "  print(\"Destinatário:\", destinatario)\n",
        "  print(\"Assunto:\", assunto)\n",
        "  print(\"Corpo:\", corpo)"
      ],
      "metadata": {
        "id": "ZSxBFrZySX32"
      },
      "execution_count": null,
      "outputs": []
    },
    {
      "cell_type": "code",
      "source": [
        "enviar_email()"
      ],
      "metadata": {
        "colab": {
          "base_uri": "https://localhost:8080/"
        },
        "id": "-UssF1HNSZgQ",
        "outputId": "d6eb34d3-d30c-4329-ea0c-72683d0dba82"
      },
      "execution_count": null,
      "outputs": [
        {
          "output_type": "stream",
          "name": "stdout",
          "text": [
            "Digite o destinatário do email: pedro@gmail.com\n",
            "Digite o assunto do email: feira\n",
            "Digite o corpo do email (ou deixe vazio para usar padrão): \n",
            "\n",
            "Enviando email\n",
            "Destinatário: pedro@gmail.com\n",
            "Assunto: feira\n",
            "Corpo: Este é um email automático.\n"
          ]
        }
      ]
    },
    {
      "cell_type": "markdown",
      "source": [
        "10)Sistema de Notas"
      ],
      "metadata": {
        "id": "kWPw95AnSDgt"
      }
    },
    {
      "cell_type": "code",
      "source": [
        "def avaliar_aluno():\n",
        "    nota = float(input(\"Digite a nota do aluno (0 a 10): \"))\n",
        "    if nota >= 7:\n",
        "        situacao = \"Aprovado\"\n",
        "    elif nota >= 5 and nota < 7:\n",
        "        situacao = \"Recuperação\"\n",
        "    else:\n",
        "        situacao = \"Reprovado\"\n",
        "\n",
        "    print(\"Aluno:\", situacao)"
      ],
      "metadata": {
        "id": "xGSUQk75SNaP"
      },
      "execution_count": null,
      "outputs": []
    },
    {
      "cell_type": "code",
      "source": [
        "avaliar_aluno()"
      ],
      "metadata": {
        "colab": {
          "base_uri": "https://localhost:8080/"
        },
        "id": "zXBgUVR9SQno",
        "outputId": "0c4dcfc3-5b13-4838-c6f2-c7e76812d92d"
      },
      "execution_count": null,
      "outputs": [
        {
          "output_type": "stream",
          "name": "stdout",
          "text": [
            "Digite a nota do aluno (0 a 10): 8\n",
            "Aluno: Aprovado\n"
          ]
        }
      ]
    }
  ]
}